{
 "cells": [
  {
   "cell_type": "code",
   "execution_count": null,
   "metadata": {},
   "outputs": [],
   "source": []
  },
  {
   "cell_type": "code",
   "execution_count": 1,
   "metadata": {},
   "outputs": [],
   "source": [
    "## https://github.com/dlab-berkeley/advanced-data-wrangling-in-R/tree/master/code\n",
    "## 04_grouping_nesting_mapping\n"
   ]
  },
  {
   "cell_type": "code",
   "execution_count": 3,
   "metadata": {},
   "outputs": [],
   "source": [
    "## jaeyk used pacman, which need at least R 3.5"
   ]
  },
  {
   "cell_type": "code",
   "execution_count": 5,
   "metadata": {},
   "outputs": [
    {
     "ename": "ERROR",
     "evalue": "Error in install.packages(pacman): object 'pacman' not found\n",
     "output_type": "error",
     "traceback": [
      "Error in install.packages(pacman): object 'pacman' not found\nTraceback:\n",
      "1. install.packages(pacman)"
     ]
    }
   ],
   "source": [
    "install.packages(pacman)"
   ]
  },
  {
   "cell_type": "code",
   "execution_count": 9,
   "metadata": {},
   "outputs": [
    {
     "data": {
      "text/html": [
       "<style>\n",
       ".list-inline {list-style: none; margin:0; padding: 0}\n",
       ".list-inline>li {display: inline-block}\n",
       ".list-inline>li:not(:last-child)::after {content: \"\\00b7\"; padding: 0 .5ex}\n",
       "</style>\n",
       "<ol class=list-inline><li>'R version 4.0.2 (2020-06-22) -- \"Taking Off Again\"'</li><li>'Copyright (C) 2020 The R Foundation for Statistical Computing'</li><li>'Platform: x86_64-pc-linux-gnu (64-bit)'</li><li>''</li><li>'R is free software and comes with ABSOLUTELY NO WARRANTY.'</li><li>'You are welcome to redistribute it under the terms of the'</li><li>'GNU General Public License versions 2 or 3.'</li><li>'For more information about these matters see'</li><li>'https://www.gnu.org/licenses/.'</li><li>''</li></ol>\n"
      ],
      "text/latex": [
       "\\begin{enumerate*}\n",
       "\\item 'R version 4.0.2 (2020-06-22) -- \"Taking Off Again\"'\n",
       "\\item 'Copyright (C) 2020 The R Foundation for Statistical Computing'\n",
       "\\item 'Platform: x86\\_64-pc-linux-gnu (64-bit)'\n",
       "\\item ''\n",
       "\\item 'R is free software and comes with ABSOLUTELY NO WARRANTY.'\n",
       "\\item 'You are welcome to redistribute it under the terms of the'\n",
       "\\item 'GNU General Public License versions 2 or 3.'\n",
       "\\item 'For more information about these matters see'\n",
       "\\item 'https://www.gnu.org/licenses/.'\n",
       "\\item ''\n",
       "\\end{enumerate*}\n"
      ],
      "text/markdown": [
       "1. 'R version 4.0.2 (2020-06-22) -- \"Taking Off Again\"'\n",
       "2. 'Copyright (C) 2020 The R Foundation for Statistical Computing'\n",
       "3. 'Platform: x86_64-pc-linux-gnu (64-bit)'\n",
       "4. ''\n",
       "5. 'R is free software and comes with ABSOLUTELY NO WARRANTY.'\n",
       "6. 'You are welcome to redistribute it under the terms of the'\n",
       "7. 'GNU General Public License versions 2 or 3.'\n",
       "8. 'For more information about these matters see'\n",
       "9. 'https://www.gnu.org/licenses/.'\n",
       "10. ''\n",
       "\n",
       "\n"
      ],
      "text/plain": [
       " [1] \"R version 4.0.2 (2020-06-22) -- \\\"Taking Off Again\\\"\"         \n",
       " [2] \"Copyright (C) 2020 The R Foundation for Statistical Computing\"\n",
       " [3] \"Platform: x86_64-pc-linux-gnu (64-bit)\"                       \n",
       " [4] \"\"                                                             \n",
       " [5] \"R is free software and comes with ABSOLUTELY NO WARRANTY.\"    \n",
       " [6] \"You are welcome to redistribute it under the terms of the\"    \n",
       " [7] \"GNU General Public License versions 2 or 3.\"                  \n",
       " [8] \"For more information about these matters see\"                 \n",
       " [9] \"https://www.gnu.org/licenses/.\"                               \n",
       "[10] \"\"                                                             "
      ]
     },
     "metadata": {},
     "output_type": "display_data"
    }
   ],
   "source": [
    "system('R --version', intern=TRUE)"
   ]
  },
  {
   "cell_type": "code",
   "execution_count": 11,
   "metadata": {},
   "outputs": [],
   "source": [
    "#library(c(tidyverse,modelr,gapminder))"
   ]
  },
  {
   "cell_type": "code",
   "execution_count": 13,
   "metadata": {},
   "outputs": [],
   "source": [
    "library(tidyverse)\n",
    "library(modelr)\n",
    "library(gapminder)"
   ]
  },
  {
   "cell_type": "markdown",
   "metadata": {},
   "source": [
    "# Grouping \n",
    "\n",
    "## Grouped summaries \n",
    "\n",
    "- Calculate the mean of `gdpPercap`."
   ]
  },
  {
   "cell_type": "code",
   "execution_count": 15,
   "metadata": {},
   "outputs": [
    {
     "data": {
      "text/html": [
       "<table>\n",
       "<caption>A tibble: 5 × 2</caption>\n",
       "<thead>\n",
       "\t<tr><th scope=col>continent</th><th scope=col>mean_gdp</th></tr>\n",
       "\t<tr><th scope=col>&lt;fct&gt;</th><th scope=col>&lt;dbl&gt;</th></tr>\n",
       "</thead>\n",
       "<tbody>\n",
       "\t<tr><td>Africa  </td><td> 2193.755</td></tr>\n",
       "\t<tr><td>Americas</td><td> 7136.110</td></tr>\n",
       "\t<tr><td>Asia    </td><td> 7902.150</td></tr>\n",
       "\t<tr><td>Europe  </td><td>14469.476</td></tr>\n",
       "\t<tr><td>Oceania </td><td>18621.609</td></tr>\n",
       "</tbody>\n",
       "</table>\n"
      ],
      "text/latex": [
       "A tibble: 5 × 2\n",
       "\\begin{tabular}{ll}\n",
       " continent & mean\\_gdp\\\\\n",
       " <fct> & <dbl>\\\\\n",
       "\\hline\n",
       "\t Africa   &  2193.755\\\\\n",
       "\t Americas &  7136.110\\\\\n",
       "\t Asia     &  7902.150\\\\\n",
       "\t Europe   & 14469.476\\\\\n",
       "\t Oceania  & 18621.609\\\\\n",
       "\\end{tabular}\n"
      ],
      "text/markdown": [
       "\n",
       "A tibble: 5 × 2\n",
       "\n",
       "| continent &lt;fct&gt; | mean_gdp &lt;dbl&gt; |\n",
       "|---|---|\n",
       "| Africa   |  2193.755 |\n",
       "| Americas |  7136.110 |\n",
       "| Asia     |  7902.150 |\n",
       "| Europe   | 14469.476 |\n",
       "| Oceania  | 18621.609 |\n",
       "\n"
      ],
      "text/plain": [
       "  continent mean_gdp \n",
       "1 Africa     2193.755\n",
       "2 Americas   7136.110\n",
       "3 Asia       7902.150\n",
       "4 Europe    14469.476\n",
       "5 Oceania   18621.609"
      ]
     },
     "metadata": {},
     "output_type": "display_data"
    }
   ],
   "source": [
    "gapminder %>%\n",
    "  group_by(continent) %>% # \n",
    "  summarise(mean_gdp = mean(gdpPercap))\n"
   ]
  },
  {
   "cell_type": "code",
   "execution_count": 29,
   "metadata": {},
   "outputs": [
    {
     "data": {
      "text/html": [
       "1704"
      ],
      "text/latex": [
       "1704"
      ],
      "text/markdown": [
       "1704"
      ],
      "text/plain": [
       "[1] 1704"
      ]
     },
     "metadata": {},
     "output_type": "display_data"
    }
   ],
   "source": [
    "gapminder %>% group_by(continent) %>% nrow"
   ]
  },
  {
   "cell_type": "code",
   "execution_count": 30,
   "metadata": {},
   "outputs": [
    {
     "data": {
      "text/html": [
       "<table>\n",
       "<caption>A tibble: 3 × 6</caption>\n",
       "<thead>\n",
       "\t<tr><th scope=col>country</th><th scope=col>continent</th><th scope=col>year</th><th scope=col>lifeExp</th><th scope=col>pop</th><th scope=col>gdpPercap</th></tr>\n",
       "\t<tr><th scope=col>&lt;fct&gt;</th><th scope=col>&lt;fct&gt;</th><th scope=col>&lt;int&gt;</th><th scope=col>&lt;dbl&gt;</th><th scope=col>&lt;int&gt;</th><th scope=col>&lt;dbl&gt;</th></tr>\n",
       "</thead>\n",
       "<tbody>\n",
       "\t<tr><td>Afghanistan</td><td>Asia</td><td>1952</td><td>28.801</td><td> 8425333</td><td>779.4453</td></tr>\n",
       "\t<tr><td>Afghanistan</td><td>Asia</td><td>1957</td><td>30.332</td><td> 9240934</td><td>820.8530</td></tr>\n",
       "\t<tr><td>Afghanistan</td><td>Asia</td><td>1962</td><td>31.997</td><td>10267083</td><td>853.1007</td></tr>\n",
       "</tbody>\n",
       "</table>\n"
      ],
      "text/latex": [
       "A tibble: 3 × 6\n",
       "\\begin{tabular}{llllll}\n",
       " country & continent & year & lifeExp & pop & gdpPercap\\\\\n",
       " <fct> & <fct> & <int> & <dbl> & <int> & <dbl>\\\\\n",
       "\\hline\n",
       "\t Afghanistan & Asia & 1952 & 28.801 &  8425333 & 779.4453\\\\\n",
       "\t Afghanistan & Asia & 1957 & 30.332 &  9240934 & 820.8530\\\\\n",
       "\t Afghanistan & Asia & 1962 & 31.997 & 10267083 & 853.1007\\\\\n",
       "\\end{tabular}\n"
      ],
      "text/markdown": [
       "\n",
       "A tibble: 3 × 6\n",
       "\n",
       "| country &lt;fct&gt; | continent &lt;fct&gt; | year &lt;int&gt; | lifeExp &lt;dbl&gt; | pop &lt;int&gt; | gdpPercap &lt;dbl&gt; |\n",
       "|---|---|---|---|---|---|\n",
       "| Afghanistan | Asia | 1952 | 28.801 |  8425333 | 779.4453 |\n",
       "| Afghanistan | Asia | 1957 | 30.332 |  9240934 | 820.8530 |\n",
       "| Afghanistan | Asia | 1962 | 31.997 | 10267083 | 853.1007 |\n",
       "\n"
      ],
      "text/plain": [
       "  country     continent year lifeExp pop      gdpPercap\n",
       "1 Afghanistan Asia      1952 28.801   8425333 779.4453 \n",
       "2 Afghanistan Asia      1957 30.332   9240934 820.8530 \n",
       "3 Afghanistan Asia      1962 31.997  10267083 853.1007 "
      ]
     },
     "metadata": {},
     "output_type": "display_data"
    }
   ],
   "source": [
    "head( gapminder, 3)"
   ]
  },
  {
   "cell_type": "code",
   "execution_count": 28,
   "metadata": {},
   "outputs": [
    {
     "data": {
      "text/html": [
       "<table>\n",
       "<caption>A tibble: 5 × 1</caption>\n",
       "<thead>\n",
       "\t<tr><th scope=col>continent</th></tr>\n",
       "\t<tr><th scope=col>&lt;fct&gt;</th></tr>\n",
       "</thead>\n",
       "<tbody>\n",
       "\t<tr><td>Africa  </td></tr>\n",
       "\t<tr><td>Americas</td></tr>\n",
       "\t<tr><td>Asia    </td></tr>\n",
       "\t<tr><td>Europe  </td></tr>\n",
       "\t<tr><td>Oceania </td></tr>\n",
       "</tbody>\n",
       "</table>\n"
      ],
      "text/latex": [
       "A tibble: 5 × 1\n",
       "\\begin{tabular}{l}\n",
       " continent\\\\\n",
       " <fct>\\\\\n",
       "\\hline\n",
       "\t Africa  \\\\\n",
       "\t Americas\\\\\n",
       "\t Asia    \\\\\n",
       "\t Europe  \\\\\n",
       "\t Oceania \\\\\n",
       "\\end{tabular}\n"
      ],
      "text/markdown": [
       "\n",
       "A tibble: 5 × 1\n",
       "\n",
       "| continent &lt;fct&gt; |\n",
       "|---|\n",
       "| Africa   |\n",
       "| Americas |\n",
       "| Asia     |\n",
       "| Europe   |\n",
       "| Oceania  |\n",
       "\n"
      ],
      "text/plain": [
       "  continent\n",
       "1 Africa   \n",
       "2 Americas \n",
       "3 Asia     \n",
       "4 Europe   \n",
       "5 Oceania  "
      ]
     },
     "metadata": {},
     "output_type": "display_data"
    }
   ],
   "source": [
    "gapminder %>% group_by(continent) %>% summarise #%>% class"
   ]
  },
  {
   "cell_type": "code",
   "execution_count": 33,
   "metadata": {},
   "outputs": [],
   "source": [
    "##?gapminder\n",
    "## country is a factor with 142 levels, it is not simple text...\n",
    "# "
   ]
  },
  {
   "cell_type": "code",
   "execution_count": null,
   "metadata": {},
   "outputs": [],
   "source": []
  },
  {
   "cell_type": "code",
   "execution_count": 34,
   "metadata": {},
   "outputs": [
    {
     "data": {
      "text/plain": [
       "        country        continent        year         lifeExp     \n",
       " Afghanistan:  12   Africa  :624   Min.   :1952   Min.   :23.60  \n",
       " Albania    :  12   Americas:300   1st Qu.:1966   1st Qu.:48.20  \n",
       " Algeria    :  12   Asia    :396   Median :1980   Median :60.71  \n",
       " Angola     :  12   Europe  :360   Mean   :1980   Mean   :59.47  \n",
       " Argentina  :  12   Oceania : 24   3rd Qu.:1993   3rd Qu.:70.85  \n",
       " Australia  :  12                  Max.   :2007   Max.   :82.60  \n",
       " (Other)    :1632                                                \n",
       "      pop              gdpPercap       \n",
       " Min.   :6.001e+04   Min.   :   241.2  \n",
       " 1st Qu.:2.794e+06   1st Qu.:  1202.1  \n",
       " Median :7.024e+06   Median :  3531.8  \n",
       " Mean   :2.960e+07   Mean   :  7215.3  \n",
       " 3rd Qu.:1.959e+07   3rd Qu.:  9325.5  \n",
       " Max.   :1.319e+09   Max.   :113523.1  \n",
       "                                       "
      ]
     },
     "metadata": {},
     "output_type": "display_data"
    }
   ],
   "source": [
    "gapminder %>% group_by(continent) %>% summary #%>% class"
   ]
  },
  {
   "cell_type": "code",
   "execution_count": 37,
   "metadata": {},
   "outputs": [
    {
     "data": {
      "text/html": [
       "<table>\n",
       "<caption>A tibble: 10 × 2</caption>\n",
       "<thead>\n",
       "\t<tr><th scope=col>country</th><th scope=col>count</th></tr>\n",
       "\t<tr><th scope=col>&lt;fct&gt;</th><th scope=col>&lt;int&gt;</th></tr>\n",
       "</thead>\n",
       "<tbody>\n",
       "\t<tr><td>Afghanistan</td><td>12</td></tr>\n",
       "\t<tr><td>Albania    </td><td>12</td></tr>\n",
       "\t<tr><td>Algeria    </td><td>12</td></tr>\n",
       "\t<tr><td>Angola     </td><td>12</td></tr>\n",
       "\t<tr><td>Argentina  </td><td>12</td></tr>\n",
       "\t<tr><td>Australia  </td><td>12</td></tr>\n",
       "\t<tr><td>Austria    </td><td>12</td></tr>\n",
       "\t<tr><td>Bahrain    </td><td>12</td></tr>\n",
       "\t<tr><td>Bangladesh </td><td>12</td></tr>\n",
       "\t<tr><td>Belgium    </td><td>12</td></tr>\n",
       "</tbody>\n",
       "</table>\n"
      ],
      "text/latex": [
       "A tibble: 10 × 2\n",
       "\\begin{tabular}{ll}\n",
       " country & count\\\\\n",
       " <fct> & <int>\\\\\n",
       "\\hline\n",
       "\t Afghanistan & 12\\\\\n",
       "\t Albania     & 12\\\\\n",
       "\t Algeria     & 12\\\\\n",
       "\t Angola      & 12\\\\\n",
       "\t Argentina   & 12\\\\\n",
       "\t Australia   & 12\\\\\n",
       "\t Austria     & 12\\\\\n",
       "\t Bahrain     & 12\\\\\n",
       "\t Bangladesh  & 12\\\\\n",
       "\t Belgium     & 12\\\\\n",
       "\\end{tabular}\n"
      ],
      "text/markdown": [
       "\n",
       "A tibble: 10 × 2\n",
       "\n",
       "| country &lt;fct&gt; | count &lt;int&gt; |\n",
       "|---|---|\n",
       "| Afghanistan | 12 |\n",
       "| Albania     | 12 |\n",
       "| Algeria     | 12 |\n",
       "| Angola      | 12 |\n",
       "| Argentina   | 12 |\n",
       "| Australia   | 12 |\n",
       "| Austria     | 12 |\n",
       "| Bahrain     | 12 |\n",
       "| Bangladesh  | 12 |\n",
       "| Belgium     | 12 |\n",
       "\n"
      ],
      "text/plain": [
       "   country     count\n",
       "1  Afghanistan 12   \n",
       "2  Albania     12   \n",
       "3  Algeria     12   \n",
       "4  Angola      12   \n",
       "5  Argentina   12   \n",
       "6  Australia   12   \n",
       "7  Austria     12   \n",
       "8  Bahrain     12   \n",
       "9  Bangladesh  12   \n",
       "10 Belgium     12   "
      ]
     },
     "metadata": {},
     "output_type": "display_data"
    }
   ],
   "source": [
    "gapminder %>% group_by(country) %>% summarise(count=n()) %>% head(10)"
   ]
  },
  {
   "cell_type": "code",
   "execution_count": 35,
   "metadata": {},
   "outputs": [
    {
     "data": {
      "text/html": [
       "<table>\n",
       "<caption>A tibble: 5 × 3</caption>\n",
       "<thead>\n",
       "\t<tr><th scope=col>continent</th><th scope=col>mean_gdp</th><th scope=col>count</th></tr>\n",
       "\t<tr><th scope=col>&lt;fct&gt;</th><th scope=col>&lt;dbl&gt;</th><th scope=col>&lt;int&gt;</th></tr>\n",
       "</thead>\n",
       "<tbody>\n",
       "\t<tr><td>Africa  </td><td> 2193.755</td><td>624</td></tr>\n",
       "\t<tr><td>Americas</td><td> 7136.110</td><td>300</td></tr>\n",
       "\t<tr><td>Asia    </td><td> 7902.150</td><td>396</td></tr>\n",
       "\t<tr><td>Europe  </td><td>14469.476</td><td>360</td></tr>\n",
       "\t<tr><td>Oceania </td><td>18621.609</td><td> 24</td></tr>\n",
       "</tbody>\n",
       "</table>\n"
      ],
      "text/latex": [
       "A tibble: 5 × 3\n",
       "\\begin{tabular}{lll}\n",
       " continent & mean\\_gdp & count\\\\\n",
       " <fct> & <dbl> & <int>\\\\\n",
       "\\hline\n",
       "\t Africa   &  2193.755 & 624\\\\\n",
       "\t Americas &  7136.110 & 300\\\\\n",
       "\t Asia     &  7902.150 & 396\\\\\n",
       "\t Europe   & 14469.476 & 360\\\\\n",
       "\t Oceania  & 18621.609 &  24\\\\\n",
       "\\end{tabular}\n"
      ],
      "text/markdown": [
       "\n",
       "A tibble: 5 × 3\n",
       "\n",
       "| continent &lt;fct&gt; | mean_gdp &lt;dbl&gt; | count &lt;int&gt; |\n",
       "|---|---|---|\n",
       "| Africa   |  2193.755 | 624 |\n",
       "| Americas |  7136.110 | 300 |\n",
       "| Asia     |  7902.150 | 396 |\n",
       "| Europe   | 14469.476 | 360 |\n",
       "| Oceania  | 18621.609 |  24 |\n",
       "\n"
      ],
      "text/plain": [
       "  continent mean_gdp  count\n",
       "1 Africa     2193.755 624  \n",
       "2 Americas   7136.110 300  \n",
       "3 Asia       7902.150 396  \n",
       "4 Europe    14469.476 360  \n",
       "5 Oceania   18621.609  24  "
      ]
     },
     "metadata": {},
     "output_type": "display_data"
    }
   ],
   "source": [
    "gapminder %>%\n",
    "  group_by(continent) %>% # \n",
    "  summarise(mean_gdp = mean(gdpPercap),\n",
    "            count = n())\n"
   ]
  },
  {
   "cell_type": "code",
   "execution_count": 38,
   "metadata": {},
   "outputs": [
    {
     "data": {
      "text/html": [
       "<table>\n",
       "<caption>A tibble: 5 × 2</caption>\n",
       "<thead>\n",
       "\t<tr><th scope=col>continent</th><th scope=col>IQR_gdp</th></tr>\n",
       "\t<tr><th scope=col>&lt;fct&gt;</th><th scope=col>&lt;dbl&gt;</th></tr>\n",
       "</thead>\n",
       "<tbody>\n",
       "\t<tr><td>Africa  </td><td> 1616.170</td></tr>\n",
       "\t<tr><td>Americas</td><td> 4402.431</td></tr>\n",
       "\t<tr><td>Asia    </td><td> 7492.262</td></tr>\n",
       "\t<tr><td>Europe  </td><td>13248.301</td></tr>\n",
       "\t<tr><td>Oceania </td><td> 8072.258</td></tr>\n",
       "</tbody>\n",
       "</table>\n"
      ],
      "text/latex": [
       "A tibble: 5 × 2\n",
       "\\begin{tabular}{ll}\n",
       " continent & IQR\\_gdp\\\\\n",
       " <fct> & <dbl>\\\\\n",
       "\\hline\n",
       "\t Africa   &  1616.170\\\\\n",
       "\t Americas &  4402.431\\\\\n",
       "\t Asia     &  7492.262\\\\\n",
       "\t Europe   & 13248.301\\\\\n",
       "\t Oceania  &  8072.258\\\\\n",
       "\\end{tabular}\n"
      ],
      "text/markdown": [
       "\n",
       "A tibble: 5 × 2\n",
       "\n",
       "| continent &lt;fct&gt; | IQR_gdp &lt;dbl&gt; |\n",
       "|---|---|\n",
       "| Africa   |  1616.170 |\n",
       "| Americas |  4402.431 |\n",
       "| Asia     |  7492.262 |\n",
       "| Europe   | 13248.301 |\n",
       "| Oceania  |  8072.258 |\n",
       "\n"
      ],
      "text/plain": [
       "  continent IQR_gdp  \n",
       "1 Africa     1616.170\n",
       "2 Americas   4402.431\n",
       "3 Asia       7492.262\n",
       "4 Europe    13248.301\n",
       "5 Oceania    8072.258"
      ]
     },
     "metadata": {},
     "output_type": "display_data"
    }
   ],
   "source": [
    "# The Interquartile Range = The Difference Between 75t and 25t Percentiles \n",
    "\n",
    "gapminder %>%\n",
    "  group_by(continent) %>% # \n",
    "  summarise(IQR_gdp = IQR(gdpPercap))"
   ]
  },
  {
   "cell_type": "code",
   "execution_count": 40,
   "metadata": {},
   "outputs": [
    {
     "data": {
      "text/html": [
       "<table>\n",
       "<caption>A tibble: 5 × 4</caption>\n",
       "<thead>\n",
       "\t<tr><th scope=col>continent</th><th scope=col>IQR_gdp</th><th scope=col>mean</th><th scope=col>sd</th></tr>\n",
       "\t<tr><th scope=col>&lt;fct&gt;</th><th scope=col>&lt;dbl&gt;</th><th scope=col>&lt;dbl&gt;</th><th scope=col>&lt;dbl&gt;</th></tr>\n",
       "</thead>\n",
       "<tbody>\n",
       "\t<tr><td>Africa  </td><td> 1616.170</td><td> 2193.755</td><td> 2827.930</td></tr>\n",
       "\t<tr><td>Americas</td><td> 4402.431</td><td> 7136.110</td><td> 6396.764</td></tr>\n",
       "\t<tr><td>Asia    </td><td> 7492.262</td><td> 7902.150</td><td>14045.373</td></tr>\n",
       "\t<tr><td>Europe  </td><td>13248.301</td><td>14469.476</td><td> 9355.213</td></tr>\n",
       "\t<tr><td>Oceania </td><td> 8072.258</td><td>18621.609</td><td> 6358.983</td></tr>\n",
       "</tbody>\n",
       "</table>\n"
      ],
      "text/latex": [
       "A tibble: 5 × 4\n",
       "\\begin{tabular}{llll}\n",
       " continent & IQR\\_gdp & mean & sd\\\\\n",
       " <fct> & <dbl> & <dbl> & <dbl>\\\\\n",
       "\\hline\n",
       "\t Africa   &  1616.170 &  2193.755 &  2827.930\\\\\n",
       "\t Americas &  4402.431 &  7136.110 &  6396.764\\\\\n",
       "\t Asia     &  7492.262 &  7902.150 & 14045.373\\\\\n",
       "\t Europe   & 13248.301 & 14469.476 &  9355.213\\\\\n",
       "\t Oceania  &  8072.258 & 18621.609 &  6358.983\\\\\n",
       "\\end{tabular}\n"
      ],
      "text/markdown": [
       "\n",
       "A tibble: 5 × 4\n",
       "\n",
       "| continent &lt;fct&gt; | IQR_gdp &lt;dbl&gt; | mean &lt;dbl&gt; | sd &lt;dbl&gt; |\n",
       "|---|---|---|---|\n",
       "| Africa   |  1616.170 |  2193.755 |  2827.930 |\n",
       "| Americas |  4402.431 |  7136.110 |  6396.764 |\n",
       "| Asia     |  7492.262 |  7902.150 | 14045.373 |\n",
       "| Europe   | 13248.301 | 14469.476 |  9355.213 |\n",
       "| Oceania  |  8072.258 | 18621.609 |  6358.983 |\n",
       "\n"
      ],
      "text/plain": [
       "  continent IQR_gdp   mean      sd       \n",
       "1 Africa     1616.170  2193.755  2827.930\n",
       "2 Americas   4402.431  7136.110  6396.764\n",
       "3 Asia       7492.262  7902.150 14045.373\n",
       "4 Europe    13248.301 14469.476  9355.213\n",
       "5 Oceania    8072.258 18621.609  6358.983"
      ]
     },
     "metadata": {},
     "output_type": "display_data"
    }
   ],
   "source": [
    "# The Interquartile Range = The Difference Between 75t and 25t Percentiles \n",
    "\n",
    "gapminder %>%\n",
    "  group_by(continent) %>% # \n",
    "  summarise(IQR_gdp = IQR(gdpPercap),\n",
    "           mean = mean(gdpPercap),\n",
    "           sd = sd(gdpPercap))"
   ]
  },
  {
   "cell_type": "code",
   "execution_count": 41,
   "metadata": {},
   "outputs": [
    {
     "data": {
      "text/html": [
       "<table>\n",
       "<caption>A tibble: 5 × 3</caption>\n",
       "<thead>\n",
       "\t<tr><th scope=col>continent</th><th scope=col>min_gdp</th><th scope=col>max_gdp</th></tr>\n",
       "\t<tr><th scope=col>&lt;fct&gt;</th><th scope=col>&lt;dbl&gt;</th><th scope=col>&lt;dbl&gt;</th></tr>\n",
       "</thead>\n",
       "<tbody>\n",
       "\t<tr><td>Africa  </td><td>  241.1659</td><td> 21951.21</td></tr>\n",
       "\t<tr><td>Americas</td><td> 1201.6372</td><td> 42951.65</td></tr>\n",
       "\t<tr><td>Asia    </td><td>  331.0000</td><td>113523.13</td></tr>\n",
       "\t<tr><td>Europe  </td><td>  973.5332</td><td> 49357.19</td></tr>\n",
       "\t<tr><td>Oceania </td><td>10039.5956</td><td> 34435.37</td></tr>\n",
       "</tbody>\n",
       "</table>\n"
      ],
      "text/latex": [
       "A tibble: 5 × 3\n",
       "\\begin{tabular}{lll}\n",
       " continent & min\\_gdp & max\\_gdp\\\\\n",
       " <fct> & <dbl> & <dbl>\\\\\n",
       "\\hline\n",
       "\t Africa   &   241.1659 &  21951.21\\\\\n",
       "\t Americas &  1201.6372 &  42951.65\\\\\n",
       "\t Asia     &   331.0000 & 113523.13\\\\\n",
       "\t Europe   &   973.5332 &  49357.19\\\\\n",
       "\t Oceania  & 10039.5956 &  34435.37\\\\\n",
       "\\end{tabular}\n"
      ],
      "text/markdown": [
       "\n",
       "A tibble: 5 × 3\n",
       "\n",
       "| continent &lt;fct&gt; | min_gdp &lt;dbl&gt; | max_gdp &lt;dbl&gt; |\n",
       "|---|---|---|\n",
       "| Africa   |   241.1659 |  21951.21 |\n",
       "| Americas |  1201.6372 |  42951.65 |\n",
       "| Asia     |   331.0000 | 113523.13 |\n",
       "| Europe   |   973.5332 |  49357.19 |\n",
       "| Oceania  | 10039.5956 |  34435.37 |\n",
       "\n"
      ],
      "text/plain": [
       "  continent min_gdp    max_gdp  \n",
       "1 Africa      241.1659  21951.21\n",
       "2 Americas   1201.6372  42951.65\n",
       "3 Asia        331.0000 113523.13\n",
       "4 Europe      973.5332  49357.19\n",
       "5 Oceania   10039.5956  34435.37"
      ]
     },
     "metadata": {},
     "output_type": "display_data"
    }
   ],
   "source": [
    "gapminder %>%\n",
    "  group_by(continent) %>% # \n",
    "  summarise(min_gdp = min(gdpPercap),\n",
    "            max_gdp = max(gdpPercap))\n"
   ]
  },
  {
   "cell_type": "code",
   "execution_count": 42,
   "metadata": {},
   "outputs": [
    {
     "data": {
      "text/html": [
       "<table>\n",
       "<caption>A tibble: 5 × 3</caption>\n",
       "<thead>\n",
       "\t<tr><th scope=col>continent</th><th scope=col>first_gdp</th><th scope=col>last_gdp</th></tr>\n",
       "\t<tr><th scope=col>&lt;fct&gt;</th><th scope=col>&lt;dbl&gt;</th><th scope=col>&lt;dbl&gt;</th></tr>\n",
       "</thead>\n",
       "<tbody>\n",
       "\t<tr><td>Africa  </td><td> 2449.0082</td><td>  469.7093</td></tr>\n",
       "\t<tr><td>Americas</td><td> 5911.3151</td><td>11415.8057</td></tr>\n",
       "\t<tr><td>Asia    </td><td>  779.4453</td><td> 2280.7699</td></tr>\n",
       "\t<tr><td>Europe  </td><td> 1601.0561</td><td>33203.2613</td></tr>\n",
       "\t<tr><td>Oceania </td><td>10039.5956</td><td>25185.0091</td></tr>\n",
       "</tbody>\n",
       "</table>\n"
      ],
      "text/latex": [
       "A tibble: 5 × 3\n",
       "\\begin{tabular}{lll}\n",
       " continent & first\\_gdp & last\\_gdp\\\\\n",
       " <fct> & <dbl> & <dbl>\\\\\n",
       "\\hline\n",
       "\t Africa   &  2449.0082 &   469.7093\\\\\n",
       "\t Americas &  5911.3151 & 11415.8057\\\\\n",
       "\t Asia     &   779.4453 &  2280.7699\\\\\n",
       "\t Europe   &  1601.0561 & 33203.2613\\\\\n",
       "\t Oceania  & 10039.5956 & 25185.0091\\\\\n",
       "\\end{tabular}\n"
      ],
      "text/markdown": [
       "\n",
       "A tibble: 5 × 3\n",
       "\n",
       "| continent &lt;fct&gt; | first_gdp &lt;dbl&gt; | last_gdp &lt;dbl&gt; |\n",
       "|---|---|---|\n",
       "| Africa   |  2449.0082 |   469.7093 |\n",
       "| Americas |  5911.3151 | 11415.8057 |\n",
       "| Asia     |   779.4453 |  2280.7699 |\n",
       "| Europe   |  1601.0561 | 33203.2613 |\n",
       "| Oceania  | 10039.5956 | 25185.0091 |\n",
       "\n"
      ],
      "text/plain": [
       "  continent first_gdp  last_gdp  \n",
       "1 Africa     2449.0082   469.7093\n",
       "2 Americas   5911.3151 11415.8057\n",
       "3 Asia        779.4453  2280.7699\n",
       "4 Europe     1601.0561 33203.2613\n",
       "5 Oceania   10039.5956 25185.0091"
      ]
     },
     "metadata": {},
     "output_type": "display_data"
    }
   ],
   "source": [
    "gapminder %>%\n",
    "  group_by(continent) %>% \n",
    "  summarise(first_gdp = first(gdpPercap),\n",
    "            last_gdp = last(gdpPercap))"
   ]
  },
  {
   "cell_type": "code",
   "execution_count": 43,
   "metadata": {},
   "outputs": [
    {
     "data": {
      "text/html": [
       "<table>\n",
       "<caption>A tibble: 5 × 3</caption>\n",
       "<thead>\n",
       "\t<tr><th scope=col>continent</th><th scope=col>first_gdp</th><th scope=col>last_gdp</th></tr>\n",
       "\t<tr><th scope=col>&lt;fct&gt;</th><th scope=col>&lt;dbl&gt;</th><th scope=col>&lt;dbl&gt;</th></tr>\n",
       "</thead>\n",
       "<tbody>\n",
       "\t<tr><td>Africa  </td><td>  241.1659</td><td> 21951.21</td></tr>\n",
       "\t<tr><td>Americas</td><td> 1201.6372</td><td> 42951.65</td></tr>\n",
       "\t<tr><td>Asia    </td><td>  331.0000</td><td>113523.13</td></tr>\n",
       "\t<tr><td>Europe  </td><td>  973.5332</td><td> 49357.19</td></tr>\n",
       "\t<tr><td>Oceania </td><td>10039.5956</td><td> 34435.37</td></tr>\n",
       "</tbody>\n",
       "</table>\n"
      ],
      "text/latex": [
       "A tibble: 5 × 3\n",
       "\\begin{tabular}{lll}\n",
       " continent & first\\_gdp & last\\_gdp\\\\\n",
       " <fct> & <dbl> & <dbl>\\\\\n",
       "\\hline\n",
       "\t Africa   &   241.1659 &  21951.21\\\\\n",
       "\t Americas &  1201.6372 &  42951.65\\\\\n",
       "\t Asia     &   331.0000 & 113523.13\\\\\n",
       "\t Europe   &   973.5332 &  49357.19\\\\\n",
       "\t Oceania  & 10039.5956 &  34435.37\\\\\n",
       "\\end{tabular}\n"
      ],
      "text/markdown": [
       "\n",
       "A tibble: 5 × 3\n",
       "\n",
       "| continent &lt;fct&gt; | first_gdp &lt;dbl&gt; | last_gdp &lt;dbl&gt; |\n",
       "|---|---|---|\n",
       "| Africa   |   241.1659 |  21951.21 |\n",
       "| Americas |  1201.6372 |  42951.65 |\n",
       "| Asia     |   331.0000 | 113523.13 |\n",
       "| Europe   |   973.5332 |  49357.19 |\n",
       "| Oceania  | 10039.5956 |  34435.37 |\n",
       "\n"
      ],
      "text/plain": [
       "  continent first_gdp  last_gdp \n",
       "1 Africa      241.1659  21951.21\n",
       "2 Americas   1201.6372  42951.65\n",
       "3 Asia        331.0000 113523.13\n",
       "4 Europe      973.5332  49357.19\n",
       "5 Oceania   10039.5956  34435.37"
      ]
     },
     "metadata": {},
     "output_type": "display_data"
    }
   ],
   "source": [
    "gapminder %>%\n",
    "  group_by(continent) %>% \n",
    "  arrange(gdpPercap) %>% # Adding arrange\n",
    "  summarise(first_gdp = first(gdpPercap),\n",
    "            last_gdp = last(gdpPercap))\n"
   ]
  },
  {
   "cell_type": "code",
   "execution_count": 44,
   "metadata": {},
   "outputs": [
    {
     "data": {
      "text/html": [
       "<table>\n",
       "<caption>A tibble: 5 × 2</caption>\n",
       "<thead>\n",
       "\t<tr><th scope=col>continent</th><th scope=col>ns</th></tr>\n",
       "\t<tr><th scope=col>&lt;fct&gt;</th><th scope=col>&lt;int&gt;</th></tr>\n",
       "</thead>\n",
       "<tbody>\n",
       "\t<tr><td>Africa  </td><td>624</td></tr>\n",
       "\t<tr><td>Americas</td><td>300</td></tr>\n",
       "\t<tr><td>Asia    </td><td>396</td></tr>\n",
       "\t<tr><td>Europe  </td><td>360</td></tr>\n",
       "\t<tr><td>Oceania </td><td> 24</td></tr>\n",
       "</tbody>\n",
       "</table>\n"
      ],
      "text/latex": [
       "A tibble: 5 × 2\n",
       "\\begin{tabular}{ll}\n",
       " continent & ns\\\\\n",
       " <fct> & <int>\\\\\n",
       "\\hline\n",
       "\t Africa   & 624\\\\\n",
       "\t Americas & 300\\\\\n",
       "\t Asia     & 396\\\\\n",
       "\t Europe   & 360\\\\\n",
       "\t Oceania  &  24\\\\\n",
       "\\end{tabular}\n"
      ],
      "text/markdown": [
       "\n",
       "A tibble: 5 × 2\n",
       "\n",
       "| continent &lt;fct&gt; | ns &lt;int&gt; |\n",
       "|---|---|\n",
       "| Africa   | 624 |\n",
       "| Americas | 300 |\n",
       "| Asia     | 396 |\n",
       "| Europe   | 360 |\n",
       "| Oceania  |  24 |\n",
       "\n"
      ],
      "text/plain": [
       "  continent ns \n",
       "1 Africa    624\n",
       "2 Americas  300\n",
       "3 Asia      396\n",
       "4 Europe    360\n",
       "5 Oceania    24"
      ]
     },
     "metadata": {},
     "output_type": "display_data"
    }
   ],
   "source": [
    "gapminder %>%\n",
    "  group_by(continent) %>%\n",
    "  summarise(ns = n())\n"
   ]
  },
  {
   "cell_type": "code",
   "execution_count": 54,
   "metadata": {},
   "outputs": [
    {
     "data": {
      "text/html": [
       "<table>\n",
       "<caption>A tibble: 5 × 3</caption>\n",
       "<thead>\n",
       "\t<tr><th scope=col>continent</th><th scope=col>rich_countries</th><th scope=col>n</th></tr>\n",
       "\t<tr><th scope=col>&lt;fct&gt;</th><th scope=col>&lt;dbl&gt;</th><th scope=col>&lt;int&gt;</th></tr>\n",
       "</thead>\n",
       "<tbody>\n",
       "\t<tr><td>Africa  </td><td>0.004807692</td><td>624</td></tr>\n",
       "\t<tr><td>Americas</td><td>0.050000000</td><td>300</td></tr>\n",
       "\t<tr><td>Asia    </td><td>0.111111111</td><td>396</td></tr>\n",
       "\t<tr><td>Europe  </td><td>0.261111111</td><td>360</td></tr>\n",
       "\t<tr><td>Oceania </td><td>0.333333333</td><td> 24</td></tr>\n",
       "</tbody>\n",
       "</table>\n"
      ],
      "text/latex": [
       "A tibble: 5 × 3\n",
       "\\begin{tabular}{lll}\n",
       " continent & rich\\_countries & n\\\\\n",
       " <fct> & <dbl> & <int>\\\\\n",
       "\\hline\n",
       "\t Africa   & 0.004807692 & 624\\\\\n",
       "\t Americas & 0.050000000 & 300\\\\\n",
       "\t Asia     & 0.111111111 & 396\\\\\n",
       "\t Europe   & 0.261111111 & 360\\\\\n",
       "\t Oceania  & 0.333333333 &  24\\\\\n",
       "\\end{tabular}\n"
      ],
      "text/markdown": [
       "\n",
       "A tibble: 5 × 3\n",
       "\n",
       "| continent &lt;fct&gt; | rich_countries &lt;dbl&gt; | n &lt;int&gt; |\n",
       "|---|---|---|\n",
       "| Africa   | 0.004807692 | 624 |\n",
       "| Americas | 0.050000000 | 300 |\n",
       "| Asia     | 0.111111111 | 396 |\n",
       "| Europe   | 0.261111111 | 360 |\n",
       "| Oceania  | 0.333333333 |  24 |\n",
       "\n"
      ],
      "text/plain": [
       "  continent rich_countries n  \n",
       "1 Africa    0.004807692    624\n",
       "2 Americas  0.050000000    300\n",
       "3 Asia      0.111111111    396\n",
       "4 Europe    0.261111111    360\n",
       "5 Oceania   0.333333333     24"
      ]
     },
     "metadata": {},
     "output_type": "display_data"
    }
   ],
   "source": [
    "gapminder %>%\n",
    "  group_by(continent) %>% \n",
    "  summarise(rich_countries = mean(gdpPercap > 20000),\n",
    "           n = n() )   ## but this count is before the gdpPercap > 200k was applied!! :-\\"
   ]
  },
  {
   "cell_type": "code",
   "execution_count": null,
   "metadata": {},
   "outputs": [],
   "source": []
  },
  {
   "cell_type": "markdown",
   "metadata": {},
   "source": [
    "# Nesting\n",
    "\n",
    "## Nest\n",
    "\n",
    "The following example comes from [R for Data Science](https://r4ds.had.co.nz/many-models.html) by by Garrett Grolemund and Hadley Wickham.\n",
    "\n",
    "- How can you run multiple models simultaneously? Using a nested data frame. \n",
    "\n",
    "- **Grouped data: each row = an observation**\n",
    "\n",
    "- **Nested data: each row = a group**"
   ]
  },
  {
   "cell_type": "code",
   "execution_count": 59,
   "metadata": {},
   "outputs": [],
   "source": [
    "## line 136 of  https://github.com/dlab-berkeley/advanced-data-wrangling-in-R/blob/master/code/03_summarizing.Rmd"
   ]
  },
  {
   "cell_type": "code",
   "execution_count": 65,
   "metadata": {},
   "outputs": [
    {
     "data": {
      "text/html": [
       "<table>\n",
       "<caption>A grouped_df: 6 × 6</caption>\n",
       "<thead>\n",
       "\t<tr><th scope=col>country</th><th scope=col>continent</th><th scope=col>year</th><th scope=col>lifeExp</th><th scope=col>pop</th><th scope=col>gdpPercap</th></tr>\n",
       "\t<tr><th scope=col>&lt;fct&gt;</th><th scope=col>&lt;fct&gt;</th><th scope=col>&lt;int&gt;</th><th scope=col>&lt;dbl&gt;</th><th scope=col>&lt;int&gt;</th><th scope=col>&lt;dbl&gt;</th></tr>\n",
       "</thead>\n",
       "<tbody>\n",
       "\t<tr><td>Afghanistan</td><td>Asia</td><td>1952</td><td>28.801</td><td> 8425333</td><td>779.4453</td></tr>\n",
       "\t<tr><td>Afghanistan</td><td>Asia</td><td>1957</td><td>30.332</td><td> 9240934</td><td>820.8530</td></tr>\n",
       "\t<tr><td>Afghanistan</td><td>Asia</td><td>1962</td><td>31.997</td><td>10267083</td><td>853.1007</td></tr>\n",
       "\t<tr><td>Afghanistan</td><td>Asia</td><td>1967</td><td>34.020</td><td>11537966</td><td>836.1971</td></tr>\n",
       "\t<tr><td>Afghanistan</td><td>Asia</td><td>1972</td><td>36.088</td><td>13079460</td><td>739.9811</td></tr>\n",
       "\t<tr><td>Afghanistan</td><td>Asia</td><td>1977</td><td>38.438</td><td>14880372</td><td>786.1134</td></tr>\n",
       "</tbody>\n",
       "</table>\n"
      ],
      "text/latex": [
       "A grouped\\_df: 6 × 6\n",
       "\\begin{tabular}{llllll}\n",
       " country & continent & year & lifeExp & pop & gdpPercap\\\\\n",
       " <fct> & <fct> & <int> & <dbl> & <int> & <dbl>\\\\\n",
       "\\hline\n",
       "\t Afghanistan & Asia & 1952 & 28.801 &  8425333 & 779.4453\\\\\n",
       "\t Afghanistan & Asia & 1957 & 30.332 &  9240934 & 820.8530\\\\\n",
       "\t Afghanistan & Asia & 1962 & 31.997 & 10267083 & 853.1007\\\\\n",
       "\t Afghanistan & Asia & 1967 & 34.020 & 11537966 & 836.1971\\\\\n",
       "\t Afghanistan & Asia & 1972 & 36.088 & 13079460 & 739.9811\\\\\n",
       "\t Afghanistan & Asia & 1977 & 38.438 & 14880372 & 786.1134\\\\\n",
       "\\end{tabular}\n"
      ],
      "text/markdown": [
       "\n",
       "A grouped_df: 6 × 6\n",
       "\n",
       "| country &lt;fct&gt; | continent &lt;fct&gt; | year &lt;int&gt; | lifeExp &lt;dbl&gt; | pop &lt;int&gt; | gdpPercap &lt;dbl&gt; |\n",
       "|---|---|---|---|---|---|\n",
       "| Afghanistan | Asia | 1952 | 28.801 |  8425333 | 779.4453 |\n",
       "| Afghanistan | Asia | 1957 | 30.332 |  9240934 | 820.8530 |\n",
       "| Afghanistan | Asia | 1962 | 31.997 | 10267083 | 853.1007 |\n",
       "| Afghanistan | Asia | 1967 | 34.020 | 11537966 | 836.1971 |\n",
       "| Afghanistan | Asia | 1972 | 36.088 | 13079460 | 739.9811 |\n",
       "| Afghanistan | Asia | 1977 | 38.438 | 14880372 | 786.1134 |\n",
       "\n"
      ],
      "text/plain": [
       "  country     continent year lifeExp pop      gdpPercap\n",
       "1 Afghanistan Asia      1952 28.801   8425333 779.4453 \n",
       "2 Afghanistan Asia      1957 30.332   9240934 820.8530 \n",
       "3 Afghanistan Asia      1962 31.997  10267083 853.1007 \n",
       "4 Afghanistan Asia      1967 34.020  11537966 836.1971 \n",
       "5 Afghanistan Asia      1972 36.088  13079460 739.9811 \n",
       "6 Afghanistan Asia      1977 38.438  14880372 786.1134 "
      ]
     },
     "metadata": {},
     "output_type": "display_data"
    }
   ],
   "source": [
    "notYET.nested <- gapminder %>%\n",
    "  group_by(country, continent)\n",
    "\n",
    "head(notYET.nested)"
   ]
  },
  {
   "cell_type": "code",
   "execution_count": null,
   "metadata": {},
   "outputs": [],
   "source": []
  },
  {
   "cell_type": "code",
   "execution_count": 68,
   "metadata": {},
   "outputs": [],
   "source": [
    "nested <- gapminder %>%\n",
    "  group_by(country, continent) %>%\n",
    "  nest() \n",
    "\n"
   ]
  },
  {
   "cell_type": "code",
   "execution_count": null,
   "metadata": {},
   "outputs": [],
   "source": []
  },
  {
   "cell_type": "code",
   "execution_count": 69,
   "metadata": {},
   "outputs": [
    {
     "data": {
      "text/html": [
       "<table>\n",
       "<caption>A grouped_df: 6 × 3</caption>\n",
       "<thead>\n",
       "\t<tr><th scope=col>country</th><th scope=col>continent</th><th scope=col>data</th></tr>\n",
       "\t<tr><th scope=col>&lt;fct&gt;</th><th scope=col>&lt;fct&gt;</th><th scope=col>&lt;list&gt;</th></tr>\n",
       "</thead>\n",
       "<tbody>\n",
       "\t<tr><td>Afghanistan</td><td>Asia    </td><td>1.952000e+03, 1.957000e+03, 1.962000e+03, 1.967000e+03, 1.972000e+03, 1.977000e+03, 1.982000e+03, 1.987000e+03, 1.992000e+03, 1.997000e+03, 2.002000e+03, 2.007000e+03, 2.880100e+01, 3.033200e+01, 3.199700e+01, 3.402000e+01, 3.608800e+01, 3.843800e+01, 3.985400e+01, 4.082200e+01, 4.167400e+01, 4.176300e+01, 4.212900e+01, 4.382800e+01, 8.425333e+06, 9.240934e+06, 1.026708e+07, 1.153797e+07, 1.307946e+07, 1.488037e+07, 1.288182e+07, 1.386796e+07, 1.631792e+07, 2.222742e+07, 2.526840e+07, 3.188992e+07, 7.794453e+02, 8.208530e+02, 8.531007e+02, 8.361971e+02, 7.399811e+02, 7.861134e+02, 9.780114e+02, 8.523959e+02, 6.493414e+02, 6.353414e+02, 7.267341e+02, 9.745803e+02</td></tr>\n",
       "\t<tr><td>Albania    </td><td>Europe  </td><td>1952.000, 1957.000, 1962.000, 1967.000, 1972.000, 1977.000, 1982.000, 1987.000, 1992.000, 1997.000, 2002.000, 2007.000, 55.230, 59.280, 64.820, 66.220, 67.690, 68.930, 70.420, 72.000, 71.581, 72.950, 75.651, 76.423, 1282697.000, 1476505.000, 1728137.000, 1984060.000, 2263554.000, 2509048.000, 2780097.000, 3075321.000, 3326498.000, 3428038.000, 3508512.000, 3600523.000, 1601.056, 1942.284, 2312.889, 2760.197, 3313.422, 3533.004, 3630.881, 3738.933, 2497.438, 3193.055, 4604.212, 5937.030</td></tr>\n",
       "\t<tr><td>Algeria    </td><td>Africa  </td><td>1952.000, 1957.000, 1962.000, 1967.000, 1972.000, 1977.000, 1982.000, 1987.000, 1992.000, 1997.000, 2002.000, 2007.000, 43.077, 45.685, 48.303, 51.407, 54.518, 58.014, 61.368, 65.799, 67.744, 69.152, 70.994, 72.301, 9279525.000, 10270856.000, 11000948.000, 12760499.000, 14760787.000, 17152804.000, 20033753.000, 23254956.000, 26298373.000, 29072015.000, 31287142.000, 33333216.000, 2449.008, 3013.976, 2550.817, 3246.992, 4182.664, 4910.417, 5745.160, 5681.359, 5023.217, 4797.295, 5288.040, 6223.367</td></tr>\n",
       "\t<tr><td>Angola     </td><td>Africa  </td><td>1952.000, 1957.000, 1962.000, 1967.000, 1972.000, 1977.000, 1982.000, 1987.000, 1992.000, 1997.000, 2002.000, 2007.000, 30.015, 31.999, 34.000, 35.985, 37.928, 39.483, 39.942, 39.906, 40.647, 40.963, 41.003, 42.731, 4232095.000, 4561361.000, 4826015.000, 5247469.000, 5894858.000, 6162675.000, 7016384.000, 7874230.000, 8735988.000, 9875024.000, 10866106.000, 12420476.000, 3520.610, 3827.940, 4269.277, 5522.776, 5473.288, 3008.647, 2756.954, 2430.208, 2627.846, 2277.141, 2773.287, 4797.231</td></tr>\n",
       "\t<tr><td>Argentina  </td><td>Americas</td><td>1952.000, 1957.000, 1962.000, 1967.000, 1972.000, 1977.000, 1982.000, 1987.000, 1992.000, 1997.000, 2002.000, 2007.000, 62.485, 64.399, 65.142, 65.634, 67.065, 68.481, 69.942, 70.774, 71.868, 73.275, 74.340, 75.320, 17876956.000, 19610538.000, 21283783.000, 22934225.000, 24779799.000, 26983828.000, 29341374.000, 31620918.000, 33958947.000, 36203463.000, 38331121.000, 40301927.000, 5911.315, 6856.856, 7133.166, 8052.953, 9443.039, 10079.027, 8997.897, 9139.671, 9308.419, 10967.282, 8797.641, 12779.380</td></tr>\n",
       "\t<tr><td>Australia  </td><td>Oceania </td><td>1952.000, 1957.000, 1962.000, 1967.000, 1972.000, 1977.000, 1982.000, 1987.000, 1992.000, 1997.000, 2002.000, 2007.000, 69.120, 70.330, 70.930, 71.100, 71.930, 73.490, 74.740, 76.320, 77.560, 78.830, 80.370, 81.235, 8691212.000, 9712569.000, 10794968.000, 11872264.000, 13177000.000, 14074100.000, 15184200.000, 16257249.000, 17481977.000, 18565243.000, 19546792.000, 20434176.000, 10039.596, 10949.650, 12217.227, 14526.125, 16788.629, 18334.198, 19477.009, 21888.889, 23424.767, 26997.937, 30687.755, 34435.367</td></tr>\n",
       "</tbody>\n",
       "</table>\n"
      ],
      "text/latex": [
       "A grouped\\_df: 6 × 3\n",
       "\\begin{tabular}{lll}\n",
       " country & continent & data\\\\\n",
       " <fct> & <fct> & <list>\\\\\n",
       "\\hline\n",
       "\t Afghanistan & Asia     & 1.952000e+03, 1.957000e+03, 1.962000e+03, 1.967000e+03, 1.972000e+03, 1.977000e+03, 1.982000e+03, 1.987000e+03, 1.992000e+03, 1.997000e+03, 2.002000e+03, 2.007000e+03, 2.880100e+01, 3.033200e+01, 3.199700e+01, 3.402000e+01, 3.608800e+01, 3.843800e+01, 3.985400e+01, 4.082200e+01, 4.167400e+01, 4.176300e+01, 4.212900e+01, 4.382800e+01, 8.425333e+06, 9.240934e+06, 1.026708e+07, 1.153797e+07, 1.307946e+07, 1.488037e+07, 1.288182e+07, 1.386796e+07, 1.631792e+07, 2.222742e+07, 2.526840e+07, 3.188992e+07, 7.794453e+02, 8.208530e+02, 8.531007e+02, 8.361971e+02, 7.399811e+02, 7.861134e+02, 9.780114e+02, 8.523959e+02, 6.493414e+02, 6.353414e+02, 7.267341e+02, 9.745803e+02\\\\\n",
       "\t Albania     & Europe   & 1952.000, 1957.000, 1962.000, 1967.000, 1972.000, 1977.000, 1982.000, 1987.000, 1992.000, 1997.000, 2002.000, 2007.000, 55.230, 59.280, 64.820, 66.220, 67.690, 68.930, 70.420, 72.000, 71.581, 72.950, 75.651, 76.423, 1282697.000, 1476505.000, 1728137.000, 1984060.000, 2263554.000, 2509048.000, 2780097.000, 3075321.000, 3326498.000, 3428038.000, 3508512.000, 3600523.000, 1601.056, 1942.284, 2312.889, 2760.197, 3313.422, 3533.004, 3630.881, 3738.933, 2497.438, 3193.055, 4604.212, 5937.030\\\\\n",
       "\t Algeria     & Africa   & 1952.000, 1957.000, 1962.000, 1967.000, 1972.000, 1977.000, 1982.000, 1987.000, 1992.000, 1997.000, 2002.000, 2007.000, 43.077, 45.685, 48.303, 51.407, 54.518, 58.014, 61.368, 65.799, 67.744, 69.152, 70.994, 72.301, 9279525.000, 10270856.000, 11000948.000, 12760499.000, 14760787.000, 17152804.000, 20033753.000, 23254956.000, 26298373.000, 29072015.000, 31287142.000, 33333216.000, 2449.008, 3013.976, 2550.817, 3246.992, 4182.664, 4910.417, 5745.160, 5681.359, 5023.217, 4797.295, 5288.040, 6223.367\\\\\n",
       "\t Angola      & Africa   & 1952.000, 1957.000, 1962.000, 1967.000, 1972.000, 1977.000, 1982.000, 1987.000, 1992.000, 1997.000, 2002.000, 2007.000, 30.015, 31.999, 34.000, 35.985, 37.928, 39.483, 39.942, 39.906, 40.647, 40.963, 41.003, 42.731, 4232095.000, 4561361.000, 4826015.000, 5247469.000, 5894858.000, 6162675.000, 7016384.000, 7874230.000, 8735988.000, 9875024.000, 10866106.000, 12420476.000, 3520.610, 3827.940, 4269.277, 5522.776, 5473.288, 3008.647, 2756.954, 2430.208, 2627.846, 2277.141, 2773.287, 4797.231\\\\\n",
       "\t Argentina   & Americas & 1952.000, 1957.000, 1962.000, 1967.000, 1972.000, 1977.000, 1982.000, 1987.000, 1992.000, 1997.000, 2002.000, 2007.000, 62.485, 64.399, 65.142, 65.634, 67.065, 68.481, 69.942, 70.774, 71.868, 73.275, 74.340, 75.320, 17876956.000, 19610538.000, 21283783.000, 22934225.000, 24779799.000, 26983828.000, 29341374.000, 31620918.000, 33958947.000, 36203463.000, 38331121.000, 40301927.000, 5911.315, 6856.856, 7133.166, 8052.953, 9443.039, 10079.027, 8997.897, 9139.671, 9308.419, 10967.282, 8797.641, 12779.380\\\\\n",
       "\t Australia   & Oceania  & 1952.000, 1957.000, 1962.000, 1967.000, 1972.000, 1977.000, 1982.000, 1987.000, 1992.000, 1997.000, 2002.000, 2007.000, 69.120, 70.330, 70.930, 71.100, 71.930, 73.490, 74.740, 76.320, 77.560, 78.830, 80.370, 81.235, 8691212.000, 9712569.000, 10794968.000, 11872264.000, 13177000.000, 14074100.000, 15184200.000, 16257249.000, 17481977.000, 18565243.000, 19546792.000, 20434176.000, 10039.596, 10949.650, 12217.227, 14526.125, 16788.629, 18334.198, 19477.009, 21888.889, 23424.767, 26997.937, 30687.755, 34435.367\\\\\n",
       "\\end{tabular}\n"
      ],
      "text/markdown": [
       "\n",
       "A grouped_df: 6 × 3\n",
       "\n",
       "| country &lt;fct&gt; | continent &lt;fct&gt; | data &lt;list&gt; |\n",
       "|---|---|---|\n",
       "| Afghanistan | Asia     | 1.952000e+03, 1.957000e+03, 1.962000e+03, 1.967000e+03, 1.972000e+03, 1.977000e+03, 1.982000e+03, 1.987000e+03, 1.992000e+03, 1.997000e+03, 2.002000e+03, 2.007000e+03, 2.880100e+01, 3.033200e+01, 3.199700e+01, 3.402000e+01, 3.608800e+01, 3.843800e+01, 3.985400e+01, 4.082200e+01, 4.167400e+01, 4.176300e+01, 4.212900e+01, 4.382800e+01, 8.425333e+06, 9.240934e+06, 1.026708e+07, 1.153797e+07, 1.307946e+07, 1.488037e+07, 1.288182e+07, 1.386796e+07, 1.631792e+07, 2.222742e+07, 2.526840e+07, 3.188992e+07, 7.794453e+02, 8.208530e+02, 8.531007e+02, 8.361971e+02, 7.399811e+02, 7.861134e+02, 9.780114e+02, 8.523959e+02, 6.493414e+02, 6.353414e+02, 7.267341e+02, 9.745803e+02 |\n",
       "| Albania     | Europe   | 1952.000, 1957.000, 1962.000, 1967.000, 1972.000, 1977.000, 1982.000, 1987.000, 1992.000, 1997.000, 2002.000, 2007.000, 55.230, 59.280, 64.820, 66.220, 67.690, 68.930, 70.420, 72.000, 71.581, 72.950, 75.651, 76.423, 1282697.000, 1476505.000, 1728137.000, 1984060.000, 2263554.000, 2509048.000, 2780097.000, 3075321.000, 3326498.000, 3428038.000, 3508512.000, 3600523.000, 1601.056, 1942.284, 2312.889, 2760.197, 3313.422, 3533.004, 3630.881, 3738.933, 2497.438, 3193.055, 4604.212, 5937.030 |\n",
       "| Algeria     | Africa   | 1952.000, 1957.000, 1962.000, 1967.000, 1972.000, 1977.000, 1982.000, 1987.000, 1992.000, 1997.000, 2002.000, 2007.000, 43.077, 45.685, 48.303, 51.407, 54.518, 58.014, 61.368, 65.799, 67.744, 69.152, 70.994, 72.301, 9279525.000, 10270856.000, 11000948.000, 12760499.000, 14760787.000, 17152804.000, 20033753.000, 23254956.000, 26298373.000, 29072015.000, 31287142.000, 33333216.000, 2449.008, 3013.976, 2550.817, 3246.992, 4182.664, 4910.417, 5745.160, 5681.359, 5023.217, 4797.295, 5288.040, 6223.367 |\n",
       "| Angola      | Africa   | 1952.000, 1957.000, 1962.000, 1967.000, 1972.000, 1977.000, 1982.000, 1987.000, 1992.000, 1997.000, 2002.000, 2007.000, 30.015, 31.999, 34.000, 35.985, 37.928, 39.483, 39.942, 39.906, 40.647, 40.963, 41.003, 42.731, 4232095.000, 4561361.000, 4826015.000, 5247469.000, 5894858.000, 6162675.000, 7016384.000, 7874230.000, 8735988.000, 9875024.000, 10866106.000, 12420476.000, 3520.610, 3827.940, 4269.277, 5522.776, 5473.288, 3008.647, 2756.954, 2430.208, 2627.846, 2277.141, 2773.287, 4797.231 |\n",
       "| Argentina   | Americas | 1952.000, 1957.000, 1962.000, 1967.000, 1972.000, 1977.000, 1982.000, 1987.000, 1992.000, 1997.000, 2002.000, 2007.000, 62.485, 64.399, 65.142, 65.634, 67.065, 68.481, 69.942, 70.774, 71.868, 73.275, 74.340, 75.320, 17876956.000, 19610538.000, 21283783.000, 22934225.000, 24779799.000, 26983828.000, 29341374.000, 31620918.000, 33958947.000, 36203463.000, 38331121.000, 40301927.000, 5911.315, 6856.856, 7133.166, 8052.953, 9443.039, 10079.027, 8997.897, 9139.671, 9308.419, 10967.282, 8797.641, 12779.380 |\n",
       "| Australia   | Oceania  | 1952.000, 1957.000, 1962.000, 1967.000, 1972.000, 1977.000, 1982.000, 1987.000, 1992.000, 1997.000, 2002.000, 2007.000, 69.120, 70.330, 70.930, 71.100, 71.930, 73.490, 74.740, 76.320, 77.560, 78.830, 80.370, 81.235, 8691212.000, 9712569.000, 10794968.000, 11872264.000, 13177000.000, 14074100.000, 15184200.000, 16257249.000, 17481977.000, 18565243.000, 19546792.000, 20434176.000, 10039.596, 10949.650, 12217.227, 14526.125, 16788.629, 18334.198, 19477.009, 21888.889, 23424.767, 26997.937, 30687.755, 34435.367 |\n",
       "\n"
      ],
      "text/plain": [
       "  country     continent\n",
       "1 Afghanistan Asia     \n",
       "2 Albania     Europe   \n",
       "3 Algeria     Africa   \n",
       "4 Angola      Africa   \n",
       "5 Argentina   Americas \n",
       "6 Australia   Oceania  \n",
       "  data                                                                                                                                                                                                                                                                                                                                                                                                                                                                                                                                                                                                                                                                                          \n",
       "1 1.952000e+03, 1.957000e+03, 1.962000e+03, 1.967000e+03, 1.972000e+03, 1.977000e+03, 1.982000e+03, 1.987000e+03, 1.992000e+03, 1.997000e+03, 2.002000e+03, 2.007000e+03, 2.880100e+01, 3.033200e+01, 3.199700e+01, 3.402000e+01, 3.608800e+01, 3.843800e+01, 3.985400e+01, 4.082200e+01, 4.167400e+01, 4.176300e+01, 4.212900e+01, 4.382800e+01, 8.425333e+06, 9.240934e+06, 1.026708e+07, 1.153797e+07, 1.307946e+07, 1.488037e+07, 1.288182e+07, 1.386796e+07, 1.631792e+07, 2.222742e+07, 2.526840e+07, 3.188992e+07, 7.794453e+02, 8.208530e+02, 8.531007e+02, 8.361971e+02, 7.399811e+02, 7.861134e+02, 9.780114e+02, 8.523959e+02, 6.493414e+02, 6.353414e+02, 7.267341e+02, 9.745803e+02\n",
       "2 1952.000, 1957.000, 1962.000, 1967.000, 1972.000, 1977.000, 1982.000, 1987.000, 1992.000, 1997.000, 2002.000, 2007.000, 55.230, 59.280, 64.820, 66.220, 67.690, 68.930, 70.420, 72.000, 71.581, 72.950, 75.651, 76.423, 1282697.000, 1476505.000, 1728137.000, 1984060.000, 2263554.000, 2509048.000, 2780097.000, 3075321.000, 3326498.000, 3428038.000, 3508512.000, 3600523.000, 1601.056, 1942.284, 2312.889, 2760.197, 3313.422, 3533.004, 3630.881, 3738.933, 2497.438, 3193.055, 4604.212, 5937.030                                                                                                                                                                                    \n",
       "3 1952.000, 1957.000, 1962.000, 1967.000, 1972.000, 1977.000, 1982.000, 1987.000, 1992.000, 1997.000, 2002.000, 2007.000, 43.077, 45.685, 48.303, 51.407, 54.518, 58.014, 61.368, 65.799, 67.744, 69.152, 70.994, 72.301, 9279525.000, 10270856.000, 11000948.000, 12760499.000, 14760787.000, 17152804.000, 20033753.000, 23254956.000, 26298373.000, 29072015.000, 31287142.000, 33333216.000, 2449.008, 3013.976, 2550.817, 3246.992, 4182.664, 4910.417, 5745.160, 5681.359, 5023.217, 4797.295, 5288.040, 6223.367                                                                                                                                                                         \n",
       "4 1952.000, 1957.000, 1962.000, 1967.000, 1972.000, 1977.000, 1982.000, 1987.000, 1992.000, 1997.000, 2002.000, 2007.000, 30.015, 31.999, 34.000, 35.985, 37.928, 39.483, 39.942, 39.906, 40.647, 40.963, 41.003, 42.731, 4232095.000, 4561361.000, 4826015.000, 5247469.000, 5894858.000, 6162675.000, 7016384.000, 7874230.000, 8735988.000, 9875024.000, 10866106.000, 12420476.000, 3520.610, 3827.940, 4269.277, 5522.776, 5473.288, 3008.647, 2756.954, 2430.208, 2627.846, 2277.141, 2773.287, 4797.231                                                                                                                                                                                  \n",
       "5 1952.000, 1957.000, 1962.000, 1967.000, 1972.000, 1977.000, 1982.000, 1987.000, 1992.000, 1997.000, 2002.000, 2007.000, 62.485, 64.399, 65.142, 65.634, 67.065, 68.481, 69.942, 70.774, 71.868, 73.275, 74.340, 75.320, 17876956.000, 19610538.000, 21283783.000, 22934225.000, 24779799.000, 26983828.000, 29341374.000, 31620918.000, 33958947.000, 36203463.000, 38331121.000, 40301927.000, 5911.315, 6856.856, 7133.166, 8052.953, 9443.039, 10079.027, 8997.897, 9139.671, 9308.419, 10967.282, 8797.641, 12779.380                                                                                                                                                                     \n",
       "6 1952.000, 1957.000, 1962.000, 1967.000, 1972.000, 1977.000, 1982.000, 1987.000, 1992.000, 1997.000, 2002.000, 2007.000, 69.120, 70.330, 70.930, 71.100, 71.930, 73.490, 74.740, 76.320, 77.560, 78.830, 80.370, 81.235, 8691212.000, 9712569.000, 10794968.000, 11872264.000, 13177000.000, 14074100.000, 15184200.000, 16257249.000, 17481977.000, 18565243.000, 19546792.000, 20434176.000, 10039.596, 10949.650, 12217.227, 14526.125, 16788.629, 18334.198, 19477.009, 21888.889, 23424.767, 26997.937, 30687.755, 34435.367                                                                                                                                                              "
      ]
     },
     "metadata": {},
     "output_type": "display_data"
    }
   ],
   "source": [
    "head(nested)"
   ]
  },
  {
   "cell_type": "code",
   "execution_count": 71,
   "metadata": {},
   "outputs": [
    {
     "data": {
      "text/html": [
       "<table>\n",
       "<caption>A tibble: 12 × 4</caption>\n",
       "<thead>\n",
       "\t<tr><th scope=col>year</th><th scope=col>lifeExp</th><th scope=col>pop</th><th scope=col>gdpPercap</th></tr>\n",
       "\t<tr><th scope=col>&lt;int&gt;</th><th scope=col>&lt;dbl&gt;</th><th scope=col>&lt;int&gt;</th><th scope=col>&lt;dbl&gt;</th></tr>\n",
       "</thead>\n",
       "<tbody>\n",
       "\t<tr><td>1952</td><td>28.801</td><td> 8425333</td><td>779.4453</td></tr>\n",
       "\t<tr><td>1957</td><td>30.332</td><td> 9240934</td><td>820.8530</td></tr>\n",
       "\t<tr><td>1962</td><td>31.997</td><td>10267083</td><td>853.1007</td></tr>\n",
       "\t<tr><td>1967</td><td>34.020</td><td>11537966</td><td>836.1971</td></tr>\n",
       "\t<tr><td>1972</td><td>36.088</td><td>13079460</td><td>739.9811</td></tr>\n",
       "\t<tr><td>1977</td><td>38.438</td><td>14880372</td><td>786.1134</td></tr>\n",
       "\t<tr><td>1982</td><td>39.854</td><td>12881816</td><td>978.0114</td></tr>\n",
       "\t<tr><td>1987</td><td>40.822</td><td>13867957</td><td>852.3959</td></tr>\n",
       "\t<tr><td>1992</td><td>41.674</td><td>16317921</td><td>649.3414</td></tr>\n",
       "\t<tr><td>1997</td><td>41.763</td><td>22227415</td><td>635.3414</td></tr>\n",
       "\t<tr><td>2002</td><td>42.129</td><td>25268405</td><td>726.7341</td></tr>\n",
       "\t<tr><td>2007</td><td>43.828</td><td>31889923</td><td>974.5803</td></tr>\n",
       "</tbody>\n",
       "</table>\n"
      ],
      "text/latex": [
       "A tibble: 12 × 4\n",
       "\\begin{tabular}{llll}\n",
       " year & lifeExp & pop & gdpPercap\\\\\n",
       " <int> & <dbl> & <int> & <dbl>\\\\\n",
       "\\hline\n",
       "\t 1952 & 28.801 &  8425333 & 779.4453\\\\\n",
       "\t 1957 & 30.332 &  9240934 & 820.8530\\\\\n",
       "\t 1962 & 31.997 & 10267083 & 853.1007\\\\\n",
       "\t 1967 & 34.020 & 11537966 & 836.1971\\\\\n",
       "\t 1972 & 36.088 & 13079460 & 739.9811\\\\\n",
       "\t 1977 & 38.438 & 14880372 & 786.1134\\\\\n",
       "\t 1982 & 39.854 & 12881816 & 978.0114\\\\\n",
       "\t 1987 & 40.822 & 13867957 & 852.3959\\\\\n",
       "\t 1992 & 41.674 & 16317921 & 649.3414\\\\\n",
       "\t 1997 & 41.763 & 22227415 & 635.3414\\\\\n",
       "\t 2002 & 42.129 & 25268405 & 726.7341\\\\\n",
       "\t 2007 & 43.828 & 31889923 & 974.5803\\\\\n",
       "\\end{tabular}\n"
      ],
      "text/markdown": [
       "\n",
       "A tibble: 12 × 4\n",
       "\n",
       "| year &lt;int&gt; | lifeExp &lt;dbl&gt; | pop &lt;int&gt; | gdpPercap &lt;dbl&gt; |\n",
       "|---|---|---|---|\n",
       "| 1952 | 28.801 |  8425333 | 779.4453 |\n",
       "| 1957 | 30.332 |  9240934 | 820.8530 |\n",
       "| 1962 | 31.997 | 10267083 | 853.1007 |\n",
       "| 1967 | 34.020 | 11537966 | 836.1971 |\n",
       "| 1972 | 36.088 | 13079460 | 739.9811 |\n",
       "| 1977 | 38.438 | 14880372 | 786.1134 |\n",
       "| 1982 | 39.854 | 12881816 | 978.0114 |\n",
       "| 1987 | 40.822 | 13867957 | 852.3959 |\n",
       "| 1992 | 41.674 | 16317921 | 649.3414 |\n",
       "| 1997 | 41.763 | 22227415 | 635.3414 |\n",
       "| 2002 | 42.129 | 25268405 | 726.7341 |\n",
       "| 2007 | 43.828 | 31889923 | 974.5803 |\n",
       "\n"
      ],
      "text/plain": [
       "   year lifeExp pop      gdpPercap\n",
       "1  1952 28.801   8425333 779.4453 \n",
       "2  1957 30.332   9240934 820.8530 \n",
       "3  1962 31.997  10267083 853.1007 \n",
       "4  1967 34.020  11537966 836.1971 \n",
       "5  1972 36.088  13079460 739.9811 \n",
       "6  1977 38.438  14880372 786.1134 \n",
       "7  1982 39.854  12881816 978.0114 \n",
       "8  1987 40.822  13867957 852.3959 \n",
       "9  1992 41.674  16317921 649.3414 \n",
       "10 1997 41.763  22227415 635.3414 \n",
       "11 2002 42.129  25268405 726.7341 \n",
       "12 2007 43.828  31889923 974.5803 "
      ]
     },
     "metadata": {},
     "output_type": "display_data"
    }
   ],
   "source": [
    "nested$data[[1]]"
   ]
  },
  {
   "cell_type": "code",
   "execution_count": null,
   "metadata": {},
   "outputs": [],
   "source": []
  },
  {
   "cell_type": "code",
   "execution_count": 78,
   "metadata": {},
   "outputs": [],
   "source": [
    "lm_model <- function(df) {\n",
    "  \n",
    "  lm(lifeExp ~ year, data = df)\n",
    "}"
   ]
  },
  {
   "cell_type": "code",
   "execution_count": null,
   "metadata": {},
   "outputs": [],
   "source": []
  },
  {
   "cell_type": "code",
   "execution_count": 83,
   "metadata": {},
   "outputs": [
    {
     "data": {
      "text/html": [
       "<table>\n",
       "<caption>A grouped_df: 6 × 4</caption>\n",
       "<thead>\n",
       "\t<tr><th scope=col>country</th><th scope=col>continent</th><th scope=col>data</th><th scope=col>models</th></tr>\n",
       "\t<tr><th scope=col>&lt;fct&gt;</th><th scope=col>&lt;fct&gt;</th><th scope=col>&lt;list&gt;</th><th scope=col>&lt;list&gt;</th></tr>\n",
       "</thead>\n",
       "<tbody>\n",
       "\t<tr><td>Afghanistan</td><td>Asia    </td><td>1.952000e+03, 1.957000e+03, 1.962000e+03, 1.967000e+03, 1.972000e+03, 1.977000e+03, 1.982000e+03, 1.987000e+03, 1.992000e+03, 1.997000e+03, 2.002000e+03, 2.007000e+03, 2.880100e+01, 3.033200e+01, 3.199700e+01, 3.402000e+01, 3.608800e+01, 3.843800e+01, 3.985400e+01, 4.082200e+01, 4.167400e+01, 4.176300e+01, 4.212900e+01, 4.382800e+01, 8.425333e+06, 9.240934e+06, 1.026708e+07, 1.153797e+07, 1.307946e+07, 1.488037e+07, 1.288182e+07, 1.386796e+07, 1.631792e+07, 2.222742e+07, 2.526840e+07, 3.188992e+07, 7.794453e+02, 8.208530e+02, 8.531007e+02, 8.361971e+02, 7.399811e+02, 7.861134e+02, 9.780114e+02, 8.523959e+02, 6.493414e+02, 6.353414e+02, 7.267341e+02, 9.745803e+02</td><td>-507.5343, 0.2753287, -1.106295, -0.9519382, -0.6635816, -0.01722494, 0.6741317, 1.647488, 1.686845, 1.278202, 0.7535583, -0.5340851, -1.544728, -1.222372, -129.8305, 16.46226, -0.3108827, 0.2892301, 0.934343, 1.861456, 1.854569, 1.399681, 0.8287943, -0.5050929, -1.56198, -1.285867, 2, 29.90729, 31.28394, 32.66058, 34.03722, 35.41387, 36.79051, 38.16716, 39.5438, 40.92044, 42.29709, 43.67373, 45.05037, 0, 1, -3.464102, 0.2886751, 0.2886751, 0.2886751, 0.2886751, 0.2886751, 0.2886751, 0.2886751, 0.2886751, 0.2886751, 0.2886751, 0.2886751, -6857.189, 59.7913, 0.1896554, 0.1060312, 0.02240704, -0.06121716, -0.1448414, -0.2284656, -0.3120898, -0.395714, -0.4793382, -0.5629624, 1.288675, 1.27328, 1, 2, 1e-07, 2, 10, lm(formula = lifeExp ~ year, data = df), lifeExp ~ year, 28.801, 30.332, 31.997, 34.02, 36.088, 38.438, 39.854, 40.822, 41.674, 41.763, 42.129, 43.828, 1952, 1957, 1962, 1967, 1972, 1977, 1982, 1987, 1992, 1997, 2002, 2007</td></tr>\n",
       "\t<tr><td>Albania    </td><td>Europe  </td><td>1952.000, 1957.000, 1962.000, 1967.000, 1972.000, 1977.000, 1982.000, 1987.000, 1992.000, 1997.000, 2002.000, 2007.000, 55.230, 59.280, 64.820, 66.220, 67.690, 68.930, 70.420, 72.000, 71.581, 72.950, 75.651, 76.423, 1282697.000, 1476505.000, 1728137.000, 1984060.000, 2263554.000, 2509048.000, 2780097.000, 3075321.000, 3326498.000, 3428038.000, 3508512.000, 3600523.000, 1601.056, 1942.284, 2312.889, 2760.197, 3313.422, 3533.004, 3630.881, 3738.933, 2497.438, 3193.055, 4604.212, 5937.030</td><td>-594.0725, 0.3346832, -3.999128, -1.622544, 2.24404, 1.970624, 1.767207, 1.333791, 1.150375, 1.056959, -1.035457, -1.339873, -0.312289, -1.213705, -237.0586, 20.01115, 3.248124, 2.926981, 2.675838, 2.194694, 1.963551, 1.822408, -0.3177351, -0.6698783, 0.3099785, -0.6391646, 2, 59.22913, 60.90254, 62.57596, 64.24938, 65.92279, 67.59621, 69.26962, 70.94304, 72.61646, 74.28987, 75.96329, 77.63671, 0, 1, -3.464102, 0.2886751, 0.2886751, 0.2886751, 0.2886751, 0.2886751, 0.2886751, 0.2886751, 0.2886751, 0.2886751, 0.2886751, 0.2886751, -6857.189, 59.7913, 0.1896554, 0.1060312, 0.02240704, -0.06121716, -0.1448414, -0.2284656, -0.3120898, -0.395714, -0.4793382, -0.5629624, 1.288675, 1.27328, 1, 2, 1e-07, 2, 10, lm(formula = lifeExp ~ year, data = df), lifeExp ~ year, 55.23, 59.28, 64.82, 66.22, 67.69, 68.93, 70.42, 72, 71.581, 72.95, 75.651, 76.423, 1952, 1957, 1962, 1967, 1972, 1977, 1982, 1987, 1992, 1997, 2002, 2007</td></tr>\n",
       "\t<tr><td>Algeria    </td><td>Africa  </td><td>1952.000, 1957.000, 1962.000, 1967.000, 1972.000, 1977.000, 1982.000, 1987.000, 1992.000, 1997.000, 2002.000, 2007.000, 43.077, 45.685, 48.303, 51.407, 54.518, 58.014, 61.368, 65.799, 67.744, 69.152, 70.994, 72.301, 9279525.000, 10270856.000, 11000948.000, 12760499.000, 14760787.000, 17152804.000, 20033753.000, 23254956.000, 26298373.000, 29072015.000, 31287142.000, 33333216.000, 2449.008, 3013.976, 2550.817, 3246.992, 4182.664, 4910.417, 5745.160, 5681.359, 5023.217, 4797.295, 5288.040, 6223.367</td><td>-1067.859, 0.5692797, -0.2979744, -0.536373, -0.7647716, -0.5071702, -0.2425688, 0.4070326, 0.914634, 2.499235, 1.597837, 0.1594382, -0.8449604, -2.384359, -204.4865, 34.03798, -0.6280719, -0.4013136, -0.1675554, 0.4512029, 0.9279612, 2.481719, 1.549478, 0.08023599, -0.9550057, -2.525247, 2, 43.37497, 46.22137, 49.06777, 51.91417, 54.76057, 57.60697, 60.45337, 63.29976, 66.14616, 68.99256, 71.83896, 74.68536, 0, 1, -3.464102, 0.2886751, 0.2886751, 0.2886751, 0.2886751, 0.2886751, 0.2886751, 0.2886751, 0.2886751, 0.2886751, 0.2886751, 0.2886751, -6857.189, 59.7913, 0.1896554, 0.1060312, 0.02240704, -0.06121716, -0.1448414, -0.2284656, -0.3120898, -0.395714, -0.4793382, -0.5629624, 1.288675, 1.27328, 1, 2, 1e-07, 2, 10, lm(formula = lifeExp ~ year, data = df), lifeExp ~ year, 43.077, 45.685, 48.303, 51.407, 54.518, 58.014, 61.368, 65.799, 67.744, 69.152, 70.994, 72.301, 1952, 1957, 1962, 1967, 1972, 1977, 1982, 1987, 1992, 1997, 2002, 2007</td></tr>\n",
       "\t<tr><td>Angola     </td><td>Africa  </td><td>1952.000, 1957.000, 1962.000, 1967.000, 1972.000, 1977.000, 1982.000, 1987.000, 1992.000, 1997.000, 2002.000, 2007.000, 30.015, 31.999, 34.000, 35.985, 37.928, 39.483, 39.942, 39.906, 40.647, 40.963, 41.003, 42.731, 4232095.000, 4561361.000, 4826015.000, 5247469.000, 5894858.000, 6162675.000, 7016384.000, 7874230.000, 8735988.000, 9875024.000, 10866106.000, 12420476.000, 3520.610, 3827.940, 4269.277, 5522.776, 5473.288, 3008.647, 2756.954, 2430.208, 2627.846, 2277.141, 2773.287, 4797.231</td><td>-376.5048, 0.2093399, -2.111654, -1.174353, -0.2200524, 0.7182483, 1.614549, 2.12285, 1.53515, 0.452451, 0.1467517, -0.5839476, -1.590647, -0.9093462, -131.2323, 12.5167, 0.3574398, 1.24968, 2.099921, 2.562161, 1.928402, 0.799642, 0.4478825, -0.3288771, -1.381637, -0.7463962, 2, 32.12665, 33.17335, 34.22005, 35.26675, 36.31345, 37.36015, 38.40685, 39.45355, 40.50025, 41.54695, 42.59365, 43.64035, 0, 1, -3.464102, 0.2886751, 0.2886751, 0.2886751, 0.2886751, 0.2886751, 0.2886751, 0.2886751, 0.2886751, 0.2886751, 0.2886751, 0.2886751, -6857.189, 59.7913, 0.1896554, 0.1060312, 0.02240704, -0.06121716, -0.1448414, -0.2284656, -0.3120898, -0.395714, -0.4793382, -0.5629624, 1.288675, 1.27328, 1, 2, 1e-07, 2, 10, lm(formula = lifeExp ~ year, data = df), lifeExp ~ year, 30.015, 31.999, 34, 35.985, 37.928, 39.483, 39.942, 39.906, 40.647, 40.963, 41.003, 42.731, 1952, 1957, 1962, 1967, 1972, 1977, 1982, 1987, 1992, 1997, 2002, 2007</td></tr>\n",
       "\t<tr><td>Argentina  </td><td>Americas</td><td>1952.000, 1957.000, 1962.000, 1967.000, 1972.000, 1977.000, 1982.000, 1987.000, 1992.000, 1997.000, 2002.000, 2007.000, 62.485, 64.399, 65.142, 65.634, 67.065, 68.481, 69.942, 70.774, 71.868, 73.275, 74.340, 75.320, 17876956.000, 19610538.000, 21283783.000, 22934225.000, 24779799.000, 26983828.000, 29341374.000, 31620918.000, 33958947.000, 36203463.000, 38331121.000, 40301927.000, 5911.315, 6856.856, 7133.166, 8052.953, 9443.039, 10079.027, 8997.897, 9139.671, 9308.419, 10967.282, 8797.641, 12779.380</td><td>-389.6063, 0.2317084, -0.2034359, 0.5520221, 0.1364802, -0.5300618, -0.2576037, -0.0001456876, 0.3023124, -0.0242296, -0.08877156, 0.1596865, 0.06614452, -0.1123974, -239.2323, 13.85415, 0.09303993, -0.5342543, -0.2225486, 0.07415714, 0.4158629, 0.1285686, 0.1032744, 0.3909801, 0.3366858, 0.1973916, 2, 62.68844, 63.84698, 65.00552, 66.16406, 67.3226, 68.48115, 69.63969, 70.79823, 71.95677, 73.11531, 74.27386, 75.4324, 0, 1, -3.464102, 0.2886751, 0.2886751, 0.2886751, 0.2886751, 0.2886751, 0.2886751, 0.2886751, 0.2886751, 0.2886751, 0.2886751, 0.2886751, -6857.189, 59.7913, 0.1896554, 0.1060312, 0.02240704, -0.06121716, -0.1448414, -0.2284656, -0.3120898, -0.395714, -0.4793382, -0.5629624, 1.288675, 1.27328, 1, 2, 1e-07, 2, 10, lm(formula = lifeExp ~ year, data = df), lifeExp ~ year, 62.485, 64.399, 65.142, 65.634, 67.065, 68.481, 69.942, 70.774, 71.868, 73.275, 74.34, 75.32, 1952, 1957, 1962, 1967, 1972, 1977, 1982, 1987, 1992, 1997, 2002, 2007</td></tr>\n",
       "\t<tr><td>Australia  </td><td>Oceania </td><td>1952.000, 1957.000, 1962.000, 1967.000, 1972.000, 1977.000, 1982.000, 1987.000, 1992.000, 1997.000, 2002.000, 2007.000, 69.120, 70.330, 70.930, 71.100, 71.930, 73.490, 74.740, 76.320, 77.560, 78.830, 80.370, 81.235, 8691212.000, 9712569.000, 10794968.000, 11872264.000, 13177000.000, 14074100.000, 15184200.000, 16257249.000, 17481977.000, 18565243.000, 19546792.000, 20434176.000, 10039.596, 10949.650, 12217.227, 14526.125, 16788.629, 18334.198, 19477.009, 21888.889, 23424.767, 26997.937, 30687.755, 34435.367</td><td>-376.1163, 0.2277238, 0.7194872, 0.7908683, 0.2522494, -0.7163695, -1.024988, -0.6036072, -0.4922261, -0.05084499, 0.05053613, 0.1819172, 0.5832984, 0.3096795, -258.6399, 13.6159, -0.002715871, -0.9299787, -1.197241, -0.7345042, -0.581767, -0.09902982, 0.04370739, 0.2164446, 0.6591818, 0.426919, 2, 68.40051, 69.53913, 70.67775, 71.81637, 72.95499, 74.09361, 75.23223, 76.37084, 77.50946, 78.64808, 79.7867, 80.92532, 0, 1, -3.464102, 0.2886751, 0.2886751, 0.2886751, 0.2886751, 0.2886751, 0.2886751, 0.2886751, 0.2886751, 0.2886751, 0.2886751, 0.2886751, -6857.189, 59.7913, 0.1896554, 0.1060312, 0.02240704, -0.06121716, -0.1448414, -0.2284656, -0.3120898, -0.395714, -0.4793382, -0.5629624, 1.288675, 1.27328, 1, 2, 1e-07, 2, 10, lm(formula = lifeExp ~ year, data = df), lifeExp ~ year, 69.12, 70.33, 70.93, 71.1, 71.93, 73.49, 74.74, 76.32, 77.56, 78.83, 80.37, 81.235, 1952, 1957, 1962, 1967, 1972, 1977, 1982, 1987, 1992, 1997, 2002, 2007</td></tr>\n",
       "</tbody>\n",
       "</table>\n"
      ],
      "text/latex": [
       "A grouped\\_df: 6 × 4\n",
       "\\begin{tabular}{llll}\n",
       " country & continent & data & models\\\\\n",
       " <fct> & <fct> & <list> & <list>\\\\\n",
       "\\hline\n",
       "\t Afghanistan & Asia     & 1.952000e+03, 1.957000e+03, 1.962000e+03, 1.967000e+03, 1.972000e+03, 1.977000e+03, 1.982000e+03, 1.987000e+03, 1.992000e+03, 1.997000e+03, 2.002000e+03, 2.007000e+03, 2.880100e+01, 3.033200e+01, 3.199700e+01, 3.402000e+01, 3.608800e+01, 3.843800e+01, 3.985400e+01, 4.082200e+01, 4.167400e+01, 4.176300e+01, 4.212900e+01, 4.382800e+01, 8.425333e+06, 9.240934e+06, 1.026708e+07, 1.153797e+07, 1.307946e+07, 1.488037e+07, 1.288182e+07, 1.386796e+07, 1.631792e+07, 2.222742e+07, 2.526840e+07, 3.188992e+07, 7.794453e+02, 8.208530e+02, 8.531007e+02, 8.361971e+02, 7.399811e+02, 7.861134e+02, 9.780114e+02, 8.523959e+02, 6.493414e+02, 6.353414e+02, 7.267341e+02, 9.745803e+02 & -507.5343, 0.2753287, -1.106295, -0.9519382, -0.6635816, -0.01722494, 0.6741317, 1.647488, 1.686845, 1.278202, 0.7535583, -0.5340851, -1.544728, -1.222372, -129.8305, 16.46226, -0.3108827, 0.2892301, 0.934343, 1.861456, 1.854569, 1.399681, 0.8287943, -0.5050929, -1.56198, -1.285867, 2, 29.90729, 31.28394, 32.66058, 34.03722, 35.41387, 36.79051, 38.16716, 39.5438, 40.92044, 42.29709, 43.67373, 45.05037, 0, 1, -3.464102, 0.2886751, 0.2886751, 0.2886751, 0.2886751, 0.2886751, 0.2886751, 0.2886751, 0.2886751, 0.2886751, 0.2886751, 0.2886751, -6857.189, 59.7913, 0.1896554, 0.1060312, 0.02240704, -0.06121716, -0.1448414, -0.2284656, -0.3120898, -0.395714, -0.4793382, -0.5629624, 1.288675, 1.27328, 1, 2, 1e-07, 2, 10, lm(formula = lifeExp \\textasciitilde{} year, data = df), lifeExp \\textasciitilde{} year, 28.801, 30.332, 31.997, 34.02, 36.088, 38.438, 39.854, 40.822, 41.674, 41.763, 42.129, 43.828, 1952, 1957, 1962, 1967, 1972, 1977, 1982, 1987, 1992, 1997, 2002, 2007\\\\\n",
       "\t Albania     & Europe   & 1952.000, 1957.000, 1962.000, 1967.000, 1972.000, 1977.000, 1982.000, 1987.000, 1992.000, 1997.000, 2002.000, 2007.000, 55.230, 59.280, 64.820, 66.220, 67.690, 68.930, 70.420, 72.000, 71.581, 72.950, 75.651, 76.423, 1282697.000, 1476505.000, 1728137.000, 1984060.000, 2263554.000, 2509048.000, 2780097.000, 3075321.000, 3326498.000, 3428038.000, 3508512.000, 3600523.000, 1601.056, 1942.284, 2312.889, 2760.197, 3313.422, 3533.004, 3630.881, 3738.933, 2497.438, 3193.055, 4604.212, 5937.030 & -594.0725, 0.3346832, -3.999128, -1.622544, 2.24404, 1.970624, 1.767207, 1.333791, 1.150375, 1.056959, -1.035457, -1.339873, -0.312289, -1.213705, -237.0586, 20.01115, 3.248124, 2.926981, 2.675838, 2.194694, 1.963551, 1.822408, -0.3177351, -0.6698783, 0.3099785, -0.6391646, 2, 59.22913, 60.90254, 62.57596, 64.24938, 65.92279, 67.59621, 69.26962, 70.94304, 72.61646, 74.28987, 75.96329, 77.63671, 0, 1, -3.464102, 0.2886751, 0.2886751, 0.2886751, 0.2886751, 0.2886751, 0.2886751, 0.2886751, 0.2886751, 0.2886751, 0.2886751, 0.2886751, -6857.189, 59.7913, 0.1896554, 0.1060312, 0.02240704, -0.06121716, -0.1448414, -0.2284656, -0.3120898, -0.395714, -0.4793382, -0.5629624, 1.288675, 1.27328, 1, 2, 1e-07, 2, 10, lm(formula = lifeExp \\textasciitilde{} year, data = df), lifeExp \\textasciitilde{} year, 55.23, 59.28, 64.82, 66.22, 67.69, 68.93, 70.42, 72, 71.581, 72.95, 75.651, 76.423, 1952, 1957, 1962, 1967, 1972, 1977, 1982, 1987, 1992, 1997, 2002, 2007\\\\\n",
       "\t Algeria     & Africa   & 1952.000, 1957.000, 1962.000, 1967.000, 1972.000, 1977.000, 1982.000, 1987.000, 1992.000, 1997.000, 2002.000, 2007.000, 43.077, 45.685, 48.303, 51.407, 54.518, 58.014, 61.368, 65.799, 67.744, 69.152, 70.994, 72.301, 9279525.000, 10270856.000, 11000948.000, 12760499.000, 14760787.000, 17152804.000, 20033753.000, 23254956.000, 26298373.000, 29072015.000, 31287142.000, 33333216.000, 2449.008, 3013.976, 2550.817, 3246.992, 4182.664, 4910.417, 5745.160, 5681.359, 5023.217, 4797.295, 5288.040, 6223.367 & -1067.859, 0.5692797, -0.2979744, -0.536373, -0.7647716, -0.5071702, -0.2425688, 0.4070326, 0.914634, 2.499235, 1.597837, 0.1594382, -0.8449604, -2.384359, -204.4865, 34.03798, -0.6280719, -0.4013136, -0.1675554, 0.4512029, 0.9279612, 2.481719, 1.549478, 0.08023599, -0.9550057, -2.525247, 2, 43.37497, 46.22137, 49.06777, 51.91417, 54.76057, 57.60697, 60.45337, 63.29976, 66.14616, 68.99256, 71.83896, 74.68536, 0, 1, -3.464102, 0.2886751, 0.2886751, 0.2886751, 0.2886751, 0.2886751, 0.2886751, 0.2886751, 0.2886751, 0.2886751, 0.2886751, 0.2886751, -6857.189, 59.7913, 0.1896554, 0.1060312, 0.02240704, -0.06121716, -0.1448414, -0.2284656, -0.3120898, -0.395714, -0.4793382, -0.5629624, 1.288675, 1.27328, 1, 2, 1e-07, 2, 10, lm(formula = lifeExp \\textasciitilde{} year, data = df), lifeExp \\textasciitilde{} year, 43.077, 45.685, 48.303, 51.407, 54.518, 58.014, 61.368, 65.799, 67.744, 69.152, 70.994, 72.301, 1952, 1957, 1962, 1967, 1972, 1977, 1982, 1987, 1992, 1997, 2002, 2007\\\\\n",
       "\t Angola      & Africa   & 1952.000, 1957.000, 1962.000, 1967.000, 1972.000, 1977.000, 1982.000, 1987.000, 1992.000, 1997.000, 2002.000, 2007.000, 30.015, 31.999, 34.000, 35.985, 37.928, 39.483, 39.942, 39.906, 40.647, 40.963, 41.003, 42.731, 4232095.000, 4561361.000, 4826015.000, 5247469.000, 5894858.000, 6162675.000, 7016384.000, 7874230.000, 8735988.000, 9875024.000, 10866106.000, 12420476.000, 3520.610, 3827.940, 4269.277, 5522.776, 5473.288, 3008.647, 2756.954, 2430.208, 2627.846, 2277.141, 2773.287, 4797.231 & -376.5048, 0.2093399, -2.111654, -1.174353, -0.2200524, 0.7182483, 1.614549, 2.12285, 1.53515, 0.452451, 0.1467517, -0.5839476, -1.590647, -0.9093462, -131.2323, 12.5167, 0.3574398, 1.24968, 2.099921, 2.562161, 1.928402, 0.799642, 0.4478825, -0.3288771, -1.381637, -0.7463962, 2, 32.12665, 33.17335, 34.22005, 35.26675, 36.31345, 37.36015, 38.40685, 39.45355, 40.50025, 41.54695, 42.59365, 43.64035, 0, 1, -3.464102, 0.2886751, 0.2886751, 0.2886751, 0.2886751, 0.2886751, 0.2886751, 0.2886751, 0.2886751, 0.2886751, 0.2886751, 0.2886751, -6857.189, 59.7913, 0.1896554, 0.1060312, 0.02240704, -0.06121716, -0.1448414, -0.2284656, -0.3120898, -0.395714, -0.4793382, -0.5629624, 1.288675, 1.27328, 1, 2, 1e-07, 2, 10, lm(formula = lifeExp \\textasciitilde{} year, data = df), lifeExp \\textasciitilde{} year, 30.015, 31.999, 34, 35.985, 37.928, 39.483, 39.942, 39.906, 40.647, 40.963, 41.003, 42.731, 1952, 1957, 1962, 1967, 1972, 1977, 1982, 1987, 1992, 1997, 2002, 2007\\\\\n",
       "\t Argentina   & Americas & 1952.000, 1957.000, 1962.000, 1967.000, 1972.000, 1977.000, 1982.000, 1987.000, 1992.000, 1997.000, 2002.000, 2007.000, 62.485, 64.399, 65.142, 65.634, 67.065, 68.481, 69.942, 70.774, 71.868, 73.275, 74.340, 75.320, 17876956.000, 19610538.000, 21283783.000, 22934225.000, 24779799.000, 26983828.000, 29341374.000, 31620918.000, 33958947.000, 36203463.000, 38331121.000, 40301927.000, 5911.315, 6856.856, 7133.166, 8052.953, 9443.039, 10079.027, 8997.897, 9139.671, 9308.419, 10967.282, 8797.641, 12779.380 & -389.6063, 0.2317084, -0.2034359, 0.5520221, 0.1364802, -0.5300618, -0.2576037, -0.0001456876, 0.3023124, -0.0242296, -0.08877156, 0.1596865, 0.06614452, -0.1123974, -239.2323, 13.85415, 0.09303993, -0.5342543, -0.2225486, 0.07415714, 0.4158629, 0.1285686, 0.1032744, 0.3909801, 0.3366858, 0.1973916, 2, 62.68844, 63.84698, 65.00552, 66.16406, 67.3226, 68.48115, 69.63969, 70.79823, 71.95677, 73.11531, 74.27386, 75.4324, 0, 1, -3.464102, 0.2886751, 0.2886751, 0.2886751, 0.2886751, 0.2886751, 0.2886751, 0.2886751, 0.2886751, 0.2886751, 0.2886751, 0.2886751, -6857.189, 59.7913, 0.1896554, 0.1060312, 0.02240704, -0.06121716, -0.1448414, -0.2284656, -0.3120898, -0.395714, -0.4793382, -0.5629624, 1.288675, 1.27328, 1, 2, 1e-07, 2, 10, lm(formula = lifeExp \\textasciitilde{} year, data = df), lifeExp \\textasciitilde{} year, 62.485, 64.399, 65.142, 65.634, 67.065, 68.481, 69.942, 70.774, 71.868, 73.275, 74.34, 75.32, 1952, 1957, 1962, 1967, 1972, 1977, 1982, 1987, 1992, 1997, 2002, 2007\\\\\n",
       "\t Australia   & Oceania  & 1952.000, 1957.000, 1962.000, 1967.000, 1972.000, 1977.000, 1982.000, 1987.000, 1992.000, 1997.000, 2002.000, 2007.000, 69.120, 70.330, 70.930, 71.100, 71.930, 73.490, 74.740, 76.320, 77.560, 78.830, 80.370, 81.235, 8691212.000, 9712569.000, 10794968.000, 11872264.000, 13177000.000, 14074100.000, 15184200.000, 16257249.000, 17481977.000, 18565243.000, 19546792.000, 20434176.000, 10039.596, 10949.650, 12217.227, 14526.125, 16788.629, 18334.198, 19477.009, 21888.889, 23424.767, 26997.937, 30687.755, 34435.367 & -376.1163, 0.2277238, 0.7194872, 0.7908683, 0.2522494, -0.7163695, -1.024988, -0.6036072, -0.4922261, -0.05084499, 0.05053613, 0.1819172, 0.5832984, 0.3096795, -258.6399, 13.6159, -0.002715871, -0.9299787, -1.197241, -0.7345042, -0.581767, -0.09902982, 0.04370739, 0.2164446, 0.6591818, 0.426919, 2, 68.40051, 69.53913, 70.67775, 71.81637, 72.95499, 74.09361, 75.23223, 76.37084, 77.50946, 78.64808, 79.7867, 80.92532, 0, 1, -3.464102, 0.2886751, 0.2886751, 0.2886751, 0.2886751, 0.2886751, 0.2886751, 0.2886751, 0.2886751, 0.2886751, 0.2886751, 0.2886751, -6857.189, 59.7913, 0.1896554, 0.1060312, 0.02240704, -0.06121716, -0.1448414, -0.2284656, -0.3120898, -0.395714, -0.4793382, -0.5629624, 1.288675, 1.27328, 1, 2, 1e-07, 2, 10, lm(formula = lifeExp \\textasciitilde{} year, data = df), lifeExp \\textasciitilde{} year, 69.12, 70.33, 70.93, 71.1, 71.93, 73.49, 74.74, 76.32, 77.56, 78.83, 80.37, 81.235, 1952, 1957, 1962, 1967, 1972, 1977, 1982, 1987, 1992, 1997, 2002, 2007\\\\\n",
       "\\end{tabular}\n"
      ],
      "text/markdown": [
       "\n",
       "A grouped_df: 6 × 4\n",
       "\n",
       "| country &lt;fct&gt; | continent &lt;fct&gt; | data &lt;list&gt; | models &lt;list&gt; |\n",
       "|---|---|---|---|\n",
       "| Afghanistan | Asia     | 1.952000e+03, 1.957000e+03, 1.962000e+03, 1.967000e+03, 1.972000e+03, 1.977000e+03, 1.982000e+03, 1.987000e+03, 1.992000e+03, 1.997000e+03, 2.002000e+03, 2.007000e+03, 2.880100e+01, 3.033200e+01, 3.199700e+01, 3.402000e+01, 3.608800e+01, 3.843800e+01, 3.985400e+01, 4.082200e+01, 4.167400e+01, 4.176300e+01, 4.212900e+01, 4.382800e+01, 8.425333e+06, 9.240934e+06, 1.026708e+07, 1.153797e+07, 1.307946e+07, 1.488037e+07, 1.288182e+07, 1.386796e+07, 1.631792e+07, 2.222742e+07, 2.526840e+07, 3.188992e+07, 7.794453e+02, 8.208530e+02, 8.531007e+02, 8.361971e+02, 7.399811e+02, 7.861134e+02, 9.780114e+02, 8.523959e+02, 6.493414e+02, 6.353414e+02, 7.267341e+02, 9.745803e+02 | -507.5343, 0.2753287, -1.106295, -0.9519382, -0.6635816, -0.01722494, 0.6741317, 1.647488, 1.686845, 1.278202, 0.7535583, -0.5340851, -1.544728, -1.222372, -129.8305, 16.46226, -0.3108827, 0.2892301, 0.934343, 1.861456, 1.854569, 1.399681, 0.8287943, -0.5050929, -1.56198, -1.285867, 2, 29.90729, 31.28394, 32.66058, 34.03722, 35.41387, 36.79051, 38.16716, 39.5438, 40.92044, 42.29709, 43.67373, 45.05037, 0, 1, -3.464102, 0.2886751, 0.2886751, 0.2886751, 0.2886751, 0.2886751, 0.2886751, 0.2886751, 0.2886751, 0.2886751, 0.2886751, 0.2886751, -6857.189, 59.7913, 0.1896554, 0.1060312, 0.02240704, -0.06121716, -0.1448414, -0.2284656, -0.3120898, -0.395714, -0.4793382, -0.5629624, 1.288675, 1.27328, 1, 2, 1e-07, 2, 10, lm(formula = lifeExp ~ year, data = df), lifeExp ~ year, 28.801, 30.332, 31.997, 34.02, 36.088, 38.438, 39.854, 40.822, 41.674, 41.763, 42.129, 43.828, 1952, 1957, 1962, 1967, 1972, 1977, 1982, 1987, 1992, 1997, 2002, 2007 |\n",
       "| Albania     | Europe   | 1952.000, 1957.000, 1962.000, 1967.000, 1972.000, 1977.000, 1982.000, 1987.000, 1992.000, 1997.000, 2002.000, 2007.000, 55.230, 59.280, 64.820, 66.220, 67.690, 68.930, 70.420, 72.000, 71.581, 72.950, 75.651, 76.423, 1282697.000, 1476505.000, 1728137.000, 1984060.000, 2263554.000, 2509048.000, 2780097.000, 3075321.000, 3326498.000, 3428038.000, 3508512.000, 3600523.000, 1601.056, 1942.284, 2312.889, 2760.197, 3313.422, 3533.004, 3630.881, 3738.933, 2497.438, 3193.055, 4604.212, 5937.030 | -594.0725, 0.3346832, -3.999128, -1.622544, 2.24404, 1.970624, 1.767207, 1.333791, 1.150375, 1.056959, -1.035457, -1.339873, -0.312289, -1.213705, -237.0586, 20.01115, 3.248124, 2.926981, 2.675838, 2.194694, 1.963551, 1.822408, -0.3177351, -0.6698783, 0.3099785, -0.6391646, 2, 59.22913, 60.90254, 62.57596, 64.24938, 65.92279, 67.59621, 69.26962, 70.94304, 72.61646, 74.28987, 75.96329, 77.63671, 0, 1, -3.464102, 0.2886751, 0.2886751, 0.2886751, 0.2886751, 0.2886751, 0.2886751, 0.2886751, 0.2886751, 0.2886751, 0.2886751, 0.2886751, -6857.189, 59.7913, 0.1896554, 0.1060312, 0.02240704, -0.06121716, -0.1448414, -0.2284656, -0.3120898, -0.395714, -0.4793382, -0.5629624, 1.288675, 1.27328, 1, 2, 1e-07, 2, 10, lm(formula = lifeExp ~ year, data = df), lifeExp ~ year, 55.23, 59.28, 64.82, 66.22, 67.69, 68.93, 70.42, 72, 71.581, 72.95, 75.651, 76.423, 1952, 1957, 1962, 1967, 1972, 1977, 1982, 1987, 1992, 1997, 2002, 2007 |\n",
       "| Algeria     | Africa   | 1952.000, 1957.000, 1962.000, 1967.000, 1972.000, 1977.000, 1982.000, 1987.000, 1992.000, 1997.000, 2002.000, 2007.000, 43.077, 45.685, 48.303, 51.407, 54.518, 58.014, 61.368, 65.799, 67.744, 69.152, 70.994, 72.301, 9279525.000, 10270856.000, 11000948.000, 12760499.000, 14760787.000, 17152804.000, 20033753.000, 23254956.000, 26298373.000, 29072015.000, 31287142.000, 33333216.000, 2449.008, 3013.976, 2550.817, 3246.992, 4182.664, 4910.417, 5745.160, 5681.359, 5023.217, 4797.295, 5288.040, 6223.367 | -1067.859, 0.5692797, -0.2979744, -0.536373, -0.7647716, -0.5071702, -0.2425688, 0.4070326, 0.914634, 2.499235, 1.597837, 0.1594382, -0.8449604, -2.384359, -204.4865, 34.03798, -0.6280719, -0.4013136, -0.1675554, 0.4512029, 0.9279612, 2.481719, 1.549478, 0.08023599, -0.9550057, -2.525247, 2, 43.37497, 46.22137, 49.06777, 51.91417, 54.76057, 57.60697, 60.45337, 63.29976, 66.14616, 68.99256, 71.83896, 74.68536, 0, 1, -3.464102, 0.2886751, 0.2886751, 0.2886751, 0.2886751, 0.2886751, 0.2886751, 0.2886751, 0.2886751, 0.2886751, 0.2886751, 0.2886751, -6857.189, 59.7913, 0.1896554, 0.1060312, 0.02240704, -0.06121716, -0.1448414, -0.2284656, -0.3120898, -0.395714, -0.4793382, -0.5629624, 1.288675, 1.27328, 1, 2, 1e-07, 2, 10, lm(formula = lifeExp ~ year, data = df), lifeExp ~ year, 43.077, 45.685, 48.303, 51.407, 54.518, 58.014, 61.368, 65.799, 67.744, 69.152, 70.994, 72.301, 1952, 1957, 1962, 1967, 1972, 1977, 1982, 1987, 1992, 1997, 2002, 2007 |\n",
       "| Angola      | Africa   | 1952.000, 1957.000, 1962.000, 1967.000, 1972.000, 1977.000, 1982.000, 1987.000, 1992.000, 1997.000, 2002.000, 2007.000, 30.015, 31.999, 34.000, 35.985, 37.928, 39.483, 39.942, 39.906, 40.647, 40.963, 41.003, 42.731, 4232095.000, 4561361.000, 4826015.000, 5247469.000, 5894858.000, 6162675.000, 7016384.000, 7874230.000, 8735988.000, 9875024.000, 10866106.000, 12420476.000, 3520.610, 3827.940, 4269.277, 5522.776, 5473.288, 3008.647, 2756.954, 2430.208, 2627.846, 2277.141, 2773.287, 4797.231 | -376.5048, 0.2093399, -2.111654, -1.174353, -0.2200524, 0.7182483, 1.614549, 2.12285, 1.53515, 0.452451, 0.1467517, -0.5839476, -1.590647, -0.9093462, -131.2323, 12.5167, 0.3574398, 1.24968, 2.099921, 2.562161, 1.928402, 0.799642, 0.4478825, -0.3288771, -1.381637, -0.7463962, 2, 32.12665, 33.17335, 34.22005, 35.26675, 36.31345, 37.36015, 38.40685, 39.45355, 40.50025, 41.54695, 42.59365, 43.64035, 0, 1, -3.464102, 0.2886751, 0.2886751, 0.2886751, 0.2886751, 0.2886751, 0.2886751, 0.2886751, 0.2886751, 0.2886751, 0.2886751, 0.2886751, -6857.189, 59.7913, 0.1896554, 0.1060312, 0.02240704, -0.06121716, -0.1448414, -0.2284656, -0.3120898, -0.395714, -0.4793382, -0.5629624, 1.288675, 1.27328, 1, 2, 1e-07, 2, 10, lm(formula = lifeExp ~ year, data = df), lifeExp ~ year, 30.015, 31.999, 34, 35.985, 37.928, 39.483, 39.942, 39.906, 40.647, 40.963, 41.003, 42.731, 1952, 1957, 1962, 1967, 1972, 1977, 1982, 1987, 1992, 1997, 2002, 2007 |\n",
       "| Argentina   | Americas | 1952.000, 1957.000, 1962.000, 1967.000, 1972.000, 1977.000, 1982.000, 1987.000, 1992.000, 1997.000, 2002.000, 2007.000, 62.485, 64.399, 65.142, 65.634, 67.065, 68.481, 69.942, 70.774, 71.868, 73.275, 74.340, 75.320, 17876956.000, 19610538.000, 21283783.000, 22934225.000, 24779799.000, 26983828.000, 29341374.000, 31620918.000, 33958947.000, 36203463.000, 38331121.000, 40301927.000, 5911.315, 6856.856, 7133.166, 8052.953, 9443.039, 10079.027, 8997.897, 9139.671, 9308.419, 10967.282, 8797.641, 12779.380 | -389.6063, 0.2317084, -0.2034359, 0.5520221, 0.1364802, -0.5300618, -0.2576037, -0.0001456876, 0.3023124, -0.0242296, -0.08877156, 0.1596865, 0.06614452, -0.1123974, -239.2323, 13.85415, 0.09303993, -0.5342543, -0.2225486, 0.07415714, 0.4158629, 0.1285686, 0.1032744, 0.3909801, 0.3366858, 0.1973916, 2, 62.68844, 63.84698, 65.00552, 66.16406, 67.3226, 68.48115, 69.63969, 70.79823, 71.95677, 73.11531, 74.27386, 75.4324, 0, 1, -3.464102, 0.2886751, 0.2886751, 0.2886751, 0.2886751, 0.2886751, 0.2886751, 0.2886751, 0.2886751, 0.2886751, 0.2886751, 0.2886751, -6857.189, 59.7913, 0.1896554, 0.1060312, 0.02240704, -0.06121716, -0.1448414, -0.2284656, -0.3120898, -0.395714, -0.4793382, -0.5629624, 1.288675, 1.27328, 1, 2, 1e-07, 2, 10, lm(formula = lifeExp ~ year, data = df), lifeExp ~ year, 62.485, 64.399, 65.142, 65.634, 67.065, 68.481, 69.942, 70.774, 71.868, 73.275, 74.34, 75.32, 1952, 1957, 1962, 1967, 1972, 1977, 1982, 1987, 1992, 1997, 2002, 2007 |\n",
       "| Australia   | Oceania  | 1952.000, 1957.000, 1962.000, 1967.000, 1972.000, 1977.000, 1982.000, 1987.000, 1992.000, 1997.000, 2002.000, 2007.000, 69.120, 70.330, 70.930, 71.100, 71.930, 73.490, 74.740, 76.320, 77.560, 78.830, 80.370, 81.235, 8691212.000, 9712569.000, 10794968.000, 11872264.000, 13177000.000, 14074100.000, 15184200.000, 16257249.000, 17481977.000, 18565243.000, 19546792.000, 20434176.000, 10039.596, 10949.650, 12217.227, 14526.125, 16788.629, 18334.198, 19477.009, 21888.889, 23424.767, 26997.937, 30687.755, 34435.367 | -376.1163, 0.2277238, 0.7194872, 0.7908683, 0.2522494, -0.7163695, -1.024988, -0.6036072, -0.4922261, -0.05084499, 0.05053613, 0.1819172, 0.5832984, 0.3096795, -258.6399, 13.6159, -0.002715871, -0.9299787, -1.197241, -0.7345042, -0.581767, -0.09902982, 0.04370739, 0.2164446, 0.6591818, 0.426919, 2, 68.40051, 69.53913, 70.67775, 71.81637, 72.95499, 74.09361, 75.23223, 76.37084, 77.50946, 78.64808, 79.7867, 80.92532, 0, 1, -3.464102, 0.2886751, 0.2886751, 0.2886751, 0.2886751, 0.2886751, 0.2886751, 0.2886751, 0.2886751, 0.2886751, 0.2886751, 0.2886751, -6857.189, 59.7913, 0.1896554, 0.1060312, 0.02240704, -0.06121716, -0.1448414, -0.2284656, -0.3120898, -0.395714, -0.4793382, -0.5629624, 1.288675, 1.27328, 1, 2, 1e-07, 2, 10, lm(formula = lifeExp ~ year, data = df), lifeExp ~ year, 69.12, 70.33, 70.93, 71.1, 71.93, 73.49, 74.74, 76.32, 77.56, 78.83, 80.37, 81.235, 1952, 1957, 1962, 1967, 1972, 1977, 1982, 1987, 1992, 1997, 2002, 2007 |\n",
       "\n"
      ],
      "text/plain": [
       "  country     continent\n",
       "1 Afghanistan Asia     \n",
       "2 Albania     Europe   \n",
       "3 Algeria     Africa   \n",
       "4 Angola      Africa   \n",
       "5 Argentina   Americas \n",
       "6 Australia   Oceania  \n",
       "  data                                                                                                                                                                                                                                                                                                                                                                                                                                                                                                                                                                                                                                                                                          \n",
       "1 1.952000e+03, 1.957000e+03, 1.962000e+03, 1.967000e+03, 1.972000e+03, 1.977000e+03, 1.982000e+03, 1.987000e+03, 1.992000e+03, 1.997000e+03, 2.002000e+03, 2.007000e+03, 2.880100e+01, 3.033200e+01, 3.199700e+01, 3.402000e+01, 3.608800e+01, 3.843800e+01, 3.985400e+01, 4.082200e+01, 4.167400e+01, 4.176300e+01, 4.212900e+01, 4.382800e+01, 8.425333e+06, 9.240934e+06, 1.026708e+07, 1.153797e+07, 1.307946e+07, 1.488037e+07, 1.288182e+07, 1.386796e+07, 1.631792e+07, 2.222742e+07, 2.526840e+07, 3.188992e+07, 7.794453e+02, 8.208530e+02, 8.531007e+02, 8.361971e+02, 7.399811e+02, 7.861134e+02, 9.780114e+02, 8.523959e+02, 6.493414e+02, 6.353414e+02, 7.267341e+02, 9.745803e+02\n",
       "2 1952.000, 1957.000, 1962.000, 1967.000, 1972.000, 1977.000, 1982.000, 1987.000, 1992.000, 1997.000, 2002.000, 2007.000, 55.230, 59.280, 64.820, 66.220, 67.690, 68.930, 70.420, 72.000, 71.581, 72.950, 75.651, 76.423, 1282697.000, 1476505.000, 1728137.000, 1984060.000, 2263554.000, 2509048.000, 2780097.000, 3075321.000, 3326498.000, 3428038.000, 3508512.000, 3600523.000, 1601.056, 1942.284, 2312.889, 2760.197, 3313.422, 3533.004, 3630.881, 3738.933, 2497.438, 3193.055, 4604.212, 5937.030                                                                                                                                                                                    \n",
       "3 1952.000, 1957.000, 1962.000, 1967.000, 1972.000, 1977.000, 1982.000, 1987.000, 1992.000, 1997.000, 2002.000, 2007.000, 43.077, 45.685, 48.303, 51.407, 54.518, 58.014, 61.368, 65.799, 67.744, 69.152, 70.994, 72.301, 9279525.000, 10270856.000, 11000948.000, 12760499.000, 14760787.000, 17152804.000, 20033753.000, 23254956.000, 26298373.000, 29072015.000, 31287142.000, 33333216.000, 2449.008, 3013.976, 2550.817, 3246.992, 4182.664, 4910.417, 5745.160, 5681.359, 5023.217, 4797.295, 5288.040, 6223.367                                                                                                                                                                         \n",
       "4 1952.000, 1957.000, 1962.000, 1967.000, 1972.000, 1977.000, 1982.000, 1987.000, 1992.000, 1997.000, 2002.000, 2007.000, 30.015, 31.999, 34.000, 35.985, 37.928, 39.483, 39.942, 39.906, 40.647, 40.963, 41.003, 42.731, 4232095.000, 4561361.000, 4826015.000, 5247469.000, 5894858.000, 6162675.000, 7016384.000, 7874230.000, 8735988.000, 9875024.000, 10866106.000, 12420476.000, 3520.610, 3827.940, 4269.277, 5522.776, 5473.288, 3008.647, 2756.954, 2430.208, 2627.846, 2277.141, 2773.287, 4797.231                                                                                                                                                                                  \n",
       "5 1952.000, 1957.000, 1962.000, 1967.000, 1972.000, 1977.000, 1982.000, 1987.000, 1992.000, 1997.000, 2002.000, 2007.000, 62.485, 64.399, 65.142, 65.634, 67.065, 68.481, 69.942, 70.774, 71.868, 73.275, 74.340, 75.320, 17876956.000, 19610538.000, 21283783.000, 22934225.000, 24779799.000, 26983828.000, 29341374.000, 31620918.000, 33958947.000, 36203463.000, 38331121.000, 40301927.000, 5911.315, 6856.856, 7133.166, 8052.953, 9443.039, 10079.027, 8997.897, 9139.671, 9308.419, 10967.282, 8797.641, 12779.380                                                                                                                                                                     \n",
       "6 1952.000, 1957.000, 1962.000, 1967.000, 1972.000, 1977.000, 1982.000, 1987.000, 1992.000, 1997.000, 2002.000, 2007.000, 69.120, 70.330, 70.930, 71.100, 71.930, 73.490, 74.740, 76.320, 77.560, 78.830, 80.370, 81.235, 8691212.000, 9712569.000, 10794968.000, 11872264.000, 13177000.000, 14074100.000, 15184200.000, 16257249.000, 17481977.000, 18565243.000, 19546792.000, 20434176.000, 10039.596, 10949.650, 12217.227, 14526.125, 16788.629, 18334.198, 19477.009, 21888.889, 23424.767, 26997.937, 30687.755, 34435.367                                                                                                                                                              \n",
       "  models                                                                                                                                                                                                                                                                                                                                                                                                                                                                                                                                                                                                                                                                                                                                                                                                                                                                                                                                                                                        \n",
       "1 -507.5343, 0.2753287, -1.106295, -0.9519382, -0.6635816, -0.01722494, 0.6741317, 1.647488, 1.686845, 1.278202, 0.7535583, -0.5340851, -1.544728, -1.222372, -129.8305, 16.46226, -0.3108827, 0.2892301, 0.934343, 1.861456, 1.854569, 1.399681, 0.8287943, -0.5050929, -1.56198, -1.285867, 2, 29.90729, 31.28394, 32.66058, 34.03722, 35.41387, 36.79051, 38.16716, 39.5438, 40.92044, 42.29709, 43.67373, 45.05037, 0, 1, -3.464102, 0.2886751, 0.2886751, 0.2886751, 0.2886751, 0.2886751, 0.2886751, 0.2886751, 0.2886751, 0.2886751, 0.2886751, 0.2886751, -6857.189, 59.7913, 0.1896554, 0.1060312, 0.02240704, -0.06121716, -0.1448414, -0.2284656, -0.3120898, -0.395714, -0.4793382, -0.5629624, 1.288675, 1.27328, 1, 2, 1e-07, 2, 10, lm(formula = lifeExp ~ year, data = df), lifeExp ~ year, 28.801, 30.332, 31.997, 34.02, 36.088, 38.438, 39.854, 40.822, 41.674, 41.763, 42.129, 43.828, 1952, 1957, 1962, 1967, 1972, 1977, 1982, 1987, 1992, 1997, 2002, 2007               \n",
       "2 -594.0725, 0.3346832, -3.999128, -1.622544, 2.24404, 1.970624, 1.767207, 1.333791, 1.150375, 1.056959, -1.035457, -1.339873, -0.312289, -1.213705, -237.0586, 20.01115, 3.248124, 2.926981, 2.675838, 2.194694, 1.963551, 1.822408, -0.3177351, -0.6698783, 0.3099785, -0.6391646, 2, 59.22913, 60.90254, 62.57596, 64.24938, 65.92279, 67.59621, 69.26962, 70.94304, 72.61646, 74.28987, 75.96329, 77.63671, 0, 1, -3.464102, 0.2886751, 0.2886751, 0.2886751, 0.2886751, 0.2886751, 0.2886751, 0.2886751, 0.2886751, 0.2886751, 0.2886751, 0.2886751, -6857.189, 59.7913, 0.1896554, 0.1060312, 0.02240704, -0.06121716, -0.1448414, -0.2284656, -0.3120898, -0.395714, -0.4793382, -0.5629624, 1.288675, 1.27328, 1, 2, 1e-07, 2, 10, lm(formula = lifeExp ~ year, data = df), lifeExp ~ year, 55.23, 59.28, 64.82, 66.22, 67.69, 68.93, 70.42, 72, 71.581, 72.95, 75.651, 76.423, 1952, 1957, 1962, 1967, 1972, 1977, 1982, 1987, 1992, 1997, 2002, 2007                                  \n",
       "3 -1067.859, 0.5692797, -0.2979744, -0.536373, -0.7647716, -0.5071702, -0.2425688, 0.4070326, 0.914634, 2.499235, 1.597837, 0.1594382, -0.8449604, -2.384359, -204.4865, 34.03798, -0.6280719, -0.4013136, -0.1675554, 0.4512029, 0.9279612, 2.481719, 1.549478, 0.08023599, -0.9550057, -2.525247, 2, 43.37497, 46.22137, 49.06777, 51.91417, 54.76057, 57.60697, 60.45337, 63.29976, 66.14616, 68.99256, 71.83896, 74.68536, 0, 1, -3.464102, 0.2886751, 0.2886751, 0.2886751, 0.2886751, 0.2886751, 0.2886751, 0.2886751, 0.2886751, 0.2886751, 0.2886751, 0.2886751, -6857.189, 59.7913, 0.1896554, 0.1060312, 0.02240704, -0.06121716, -0.1448414, -0.2284656, -0.3120898, -0.395714, -0.4793382, -0.5629624, 1.288675, 1.27328, 1, 2, 1e-07, 2, 10, lm(formula = lifeExp ~ year, data = df), lifeExp ~ year, 43.077, 45.685, 48.303, 51.407, 54.518, 58.014, 61.368, 65.799, 67.744, 69.152, 70.994, 72.301, 1952, 1957, 1962, 1967, 1972, 1977, 1982, 1987, 1992, 1997, 2002, 2007       \n",
       "4 -376.5048, 0.2093399, -2.111654, -1.174353, -0.2200524, 0.7182483, 1.614549, 2.12285, 1.53515, 0.452451, 0.1467517, -0.5839476, -1.590647, -0.9093462, -131.2323, 12.5167, 0.3574398, 1.24968, 2.099921, 2.562161, 1.928402, 0.799642, 0.4478825, -0.3288771, -1.381637, -0.7463962, 2, 32.12665, 33.17335, 34.22005, 35.26675, 36.31345, 37.36015, 38.40685, 39.45355, 40.50025, 41.54695, 42.59365, 43.64035, 0, 1, -3.464102, 0.2886751, 0.2886751, 0.2886751, 0.2886751, 0.2886751, 0.2886751, 0.2886751, 0.2886751, 0.2886751, 0.2886751, 0.2886751, -6857.189, 59.7913, 0.1896554, 0.1060312, 0.02240704, -0.06121716, -0.1448414, -0.2284656, -0.3120898, -0.395714, -0.4793382, -0.5629624, 1.288675, 1.27328, 1, 2, 1e-07, 2, 10, lm(formula = lifeExp ~ year, data = df), lifeExp ~ year, 30.015, 31.999, 34, 35.985, 37.928, 39.483, 39.942, 39.906, 40.647, 40.963, 41.003, 42.731, 1952, 1957, 1962, 1967, 1972, 1977, 1982, 1987, 1992, 1997, 2002, 2007                        \n",
       "5 -389.6063, 0.2317084, -0.2034359, 0.5520221, 0.1364802, -0.5300618, -0.2576037, -0.0001456876, 0.3023124, -0.0242296, -0.08877156, 0.1596865, 0.06614452, -0.1123974, -239.2323, 13.85415, 0.09303993, -0.5342543, -0.2225486, 0.07415714, 0.4158629, 0.1285686, 0.1032744, 0.3909801, 0.3366858, 0.1973916, 2, 62.68844, 63.84698, 65.00552, 66.16406, 67.3226, 68.48115, 69.63969, 70.79823, 71.95677, 73.11531, 74.27386, 75.4324, 0, 1, -3.464102, 0.2886751, 0.2886751, 0.2886751, 0.2886751, 0.2886751, 0.2886751, 0.2886751, 0.2886751, 0.2886751, 0.2886751, 0.2886751, -6857.189, 59.7913, 0.1896554, 0.1060312, 0.02240704, -0.06121716, -0.1448414, -0.2284656, -0.3120898, -0.395714, -0.4793382, -0.5629624, 1.288675, 1.27328, 1, 2, 1e-07, 2, 10, lm(formula = lifeExp ~ year, data = df), lifeExp ~ year, 62.485, 64.399, 65.142, 65.634, 67.065, 68.481, 69.942, 70.774, 71.868, 73.275, 74.34, 75.32, 1952, 1957, 1962, 1967, 1972, 1977, 1982, 1987, 1992, 1997, 2002, 2007\n",
       "6 -376.1163, 0.2277238, 0.7194872, 0.7908683, 0.2522494, -0.7163695, -1.024988, -0.6036072, -0.4922261, -0.05084499, 0.05053613, 0.1819172, 0.5832984, 0.3096795, -258.6399, 13.6159, -0.002715871, -0.9299787, -1.197241, -0.7345042, -0.581767, -0.09902982, 0.04370739, 0.2164446, 0.6591818, 0.426919, 2, 68.40051, 69.53913, 70.67775, 71.81637, 72.95499, 74.09361, 75.23223, 76.37084, 77.50946, 78.64808, 79.7867, 80.92532, 0, 1, -3.464102, 0.2886751, 0.2886751, 0.2886751, 0.2886751, 0.2886751, 0.2886751, 0.2886751, 0.2886751, 0.2886751, 0.2886751, 0.2886751, -6857.189, 59.7913, 0.1896554, 0.1060312, 0.02240704, -0.06121716, -0.1448414, -0.2284656, -0.3120898, -0.395714, -0.4793382, -0.5629624, 1.288675, 1.27328, 1, 2, 1e-07, 2, 10, lm(formula = lifeExp ~ year, data = df), lifeExp ~ year, 69.12, 70.33, 70.93, 71.1, 71.93, 73.49, 74.74, 76.32, 77.56, 78.83, 80.37, 81.235, 1952, 1957, 1962, 1967, 1972, 1977, 1982, 1987, 1992, 1997, 2002, 2007             "
      ]
     },
     "metadata": {},
     "output_type": "display_data"
    }
   ],
   "source": [
    "# Apply m_model to the nested data \n",
    "\n",
    "nested <- nested %>%\n",
    "  mutate(models = map(data, lm_model)) # Add the list object as a new column\n",
    "\n",
    "head(nested)"
   ]
  },
  {
   "cell_type": "code",
   "execution_count": 85,
   "metadata": {},
   "outputs": [
    {
     "data": {
      "text/plain": [
       "\n",
       "Call:\n",
       "lm(formula = lifeExp ~ year, data = df)\n",
       "\n",
       "Coefficients:\n",
       "(Intercept)         year  \n",
       "  -507.5343       0.2753  \n"
      ]
     },
     "metadata": {},
     "output_type": "display_data"
    }
   ],
   "source": [
    "lm_model( nested$data[[1]]  )"
   ]
  },
  {
   "cell_type": "code",
   "execution_count": 86,
   "metadata": {},
   "outputs": [
    {
     "data": {
      "text/plain": [
       "\n",
       "Call:\n",
       "lm(formula = lifeExp ~ year, data = df)\n",
       "\n",
       "Coefficients:\n",
       "(Intercept)         year  \n",
       "  -507.5343       0.2753  \n"
      ]
     },
     "metadata": {},
     "output_type": "display_data"
    }
   ],
   "source": [
    " nested$data[[1]]  %>% lm_model  # same as above, just diff syntax"
   ]
  },
  {
   "cell_type": "code",
   "execution_count": 89,
   "metadata": {},
   "outputs": [
    {
     "data": {
      "text/plain": [
       "[[1]]\n",
       "\n",
       "Call:\n",
       "lm(formula = lifeExp ~ year, data = df)\n",
       "\n",
       "Coefficients:\n",
       "(Intercept)         year  \n",
       "  -507.5343       0.2753  \n",
       "\n",
       "\n",
       "[[2]]\n",
       "\n",
       "Call:\n",
       "lm(formula = lifeExp ~ year, data = df)\n",
       "\n",
       "Coefficients:\n",
       "(Intercept)         year  \n",
       "  -594.0725       0.3347  \n",
       "\n"
      ]
     },
     "metadata": {},
     "output_type": "display_data"
    }
   ],
   "source": [
    "\n",
    "map(nested$data, lm_model) %>% head(2)"
   ]
  },
  {
   "cell_type": "code",
   "execution_count": 90,
   "metadata": {},
   "outputs": [
    {
     "data": {
      "text/plain": [
       "[[1]]\n",
       "\n",
       "Call:\n",
       "lm(formula = lifeExp ~ year, data = df)\n",
       "\n",
       "Coefficients:\n",
       "(Intercept)         year  \n",
       "  -507.5343       0.2753  \n",
       "\n",
       "\n",
       "[[2]]\n",
       "\n",
       "Call:\n",
       "lm(formula = lifeExp ~ year, data = df)\n",
       "\n",
       "Coefficients:\n",
       "(Intercept)         year  \n",
       "  -594.0725       0.3347  \n",
       "\n"
      ]
     },
     "metadata": {},
     "output_type": "display_data"
    }
   ],
   "source": [
    "lapply(nested$data, lm_model) %>% head(2)\n",
    "## map and lapply are very similar, map has better syntax for some common use cases.\n",
    "## see https://stackoverflow.com/questions/45101045/why-use-purrrmap-instead-of-lapply\n",
    "## ++ add to R.html"
   ]
  },
  {
   "cell_type": "markdown",
   "metadata": {},
   "source": [
    "\n",
    "We tasted a little bit about how `map()` function works. Let's dig into it deeper as this family of functions is really useful. For more information, see Rebecca Barter's wonderful tutorial on the `purrr` package. In her words, this is \"the tidyverse's answer to apply functions for iteration\". `map()` function can take a vector (of any type), a list, and a dataframe for input. \n",
    "\n",
    "\n",
    "\n",
    "    "
   ]
  },
  {
   "cell_type": "code",
   "execution_count": 99,
   "metadata": {},
   "outputs": [],
   "source": [
    "## purrr is for functional programming in R, which is provider of the map() fn.  \n"
   ]
  },
  {
   "cell_type": "markdown",
   "metadata": {},
   "source": [
    "\n",
    "// tin\n",
    "// jupyter notebook doesnt show the S3 thing.\n",
    "// it shows the (nested) df.  so in that regard nicer than Rstudio :D\n",
    "\n",
    "\n",
    "```\n",
    "S3 is part of R's object oriented systems. If you need more information, check [this section](http://adv-r.had.co.nz/S3.html) in Hadley's Advanced R out.\n",
    "\n",
    "## Unnest \n",
    "\n",
    "`glance()` function from `broom` package inspects the quality of a statistical model.\n",
    "\n",
    "**Additional tips**\n",
    "\n",
    "- `broom::glance(model)`: for evaluating model quality and/or complexity \n",
    "- `broom::tidy(model)`: for extracting each coefficient in the model (the estimates + its variability)\n",
    "- `broom::augment(model, data)`: for getting extra values (residuals, and influence statistics)"
   ]
  },
  {
   "cell_type": "code",
   "execution_count": 92,
   "metadata": {},
   "outputs": [
    {
     "data": {
      "text/html": [
       "<table>\n",
       "<caption>A tibble: 1 × 12</caption>\n",
       "<thead>\n",
       "\t<tr><th scope=col>r.squared</th><th scope=col>adj.r.squared</th><th scope=col>sigma</th><th scope=col>statistic</th><th scope=col>p.value</th><th scope=col>df</th><th scope=col>logLik</th><th scope=col>AIC</th><th scope=col>BIC</th><th scope=col>deviance</th><th scope=col>df.residual</th><th scope=col>nobs</th></tr>\n",
       "\t<tr><th scope=col>&lt;dbl&gt;</th><th scope=col>&lt;dbl&gt;</th><th scope=col>&lt;dbl&gt;</th><th scope=col>&lt;dbl&gt;</th><th scope=col>&lt;dbl&gt;</th><th scope=col>&lt;dbl&gt;</th><th scope=col>&lt;dbl&gt;</th><th scope=col>&lt;dbl&gt;</th><th scope=col>&lt;dbl&gt;</th><th scope=col>&lt;dbl&gt;</th><th scope=col>&lt;int&gt;</th><th scope=col>&lt;int&gt;</th></tr>\n",
       "</thead>\n",
       "<tbody>\n",
       "\t<tr><td>0.9477123</td><td>0.9424835</td><td>1.222788</td><td>181.2494</td><td>9.835213e-08</td><td>1</td><td>-18.34693</td><td>42.69387</td><td>44.14859</td><td>14.9521</td><td>10</td><td>12</td></tr>\n",
       "</tbody>\n",
       "</table>\n"
      ],
      "text/latex": [
       "A tibble: 1 × 12\n",
       "\\begin{tabular}{llllllllllll}\n",
       " r.squared & adj.r.squared & sigma & statistic & p.value & df & logLik & AIC & BIC & deviance & df.residual & nobs\\\\\n",
       " <dbl> & <dbl> & <dbl> & <dbl> & <dbl> & <dbl> & <dbl> & <dbl> & <dbl> & <dbl> & <int> & <int>\\\\\n",
       "\\hline\n",
       "\t 0.9477123 & 0.9424835 & 1.222788 & 181.2494 & 9.835213e-08 & 1 & -18.34693 & 42.69387 & 44.14859 & 14.9521 & 10 & 12\\\\\n",
       "\\end{tabular}\n"
      ],
      "text/markdown": [
       "\n",
       "A tibble: 1 × 12\n",
       "\n",
       "| r.squared &lt;dbl&gt; | adj.r.squared &lt;dbl&gt; | sigma &lt;dbl&gt; | statistic &lt;dbl&gt; | p.value &lt;dbl&gt; | df &lt;dbl&gt; | logLik &lt;dbl&gt; | AIC &lt;dbl&gt; | BIC &lt;dbl&gt; | deviance &lt;dbl&gt; | df.residual &lt;int&gt; | nobs &lt;int&gt; |\n",
       "|---|---|---|---|---|---|---|---|---|---|---|---|\n",
       "| 0.9477123 | 0.9424835 | 1.222788 | 181.2494 | 9.835213e-08 | 1 | -18.34693 | 42.69387 | 44.14859 | 14.9521 | 10 | 12 |\n",
       "\n"
      ],
      "text/plain": [
       "  r.squared adj.r.squared sigma    statistic p.value      df logLik    AIC     \n",
       "1 0.9477123 0.9424835     1.222788 181.2494  9.835213e-08 1  -18.34693 42.69387\n",
       "  BIC      deviance df.residual nobs\n",
       "1 44.14859 14.9521  10          12  "
      ]
     },
     "metadata": {},
     "output_type": "display_data"
    }
   ],
   "source": [
    "glanced <- nested %>%\n",
    "  mutate(glance = map(models, broom::glance))\n",
    "\n",
    "glanced$glance[[1]]\n"
   ]
  },
  {
   "cell_type": "code",
   "execution_count": null,
   "metadata": {},
   "outputs": [],
   "source": [
    "## nested$data[[1]] ## ??"
   ]
  },
  {
   "cell_type": "code",
   "execution_count": 97,
   "metadata": {},
   "outputs": [
    {
     "data": {
      "text/html": [
       "<table>\n",
       "<caption>A grouped_df: 2 × 16</caption>\n",
       "<thead>\n",
       "\t<tr><th scope=col>country</th><th scope=col>continent</th><th scope=col>data</th><th scope=col>models</th><th scope=col>r.squared</th><th scope=col>adj.r.squared</th><th scope=col>sigma</th><th scope=col>statistic</th><th scope=col>p.value</th><th scope=col>df</th><th scope=col>logLik</th><th scope=col>AIC</th><th scope=col>BIC</th><th scope=col>deviance</th><th scope=col>df.residual</th><th scope=col>nobs</th></tr>\n",
       "\t<tr><th scope=col>&lt;fct&gt;</th><th scope=col>&lt;fct&gt;</th><th scope=col>&lt;list&gt;</th><th scope=col>&lt;list&gt;</th><th scope=col>&lt;dbl&gt;</th><th scope=col>&lt;dbl&gt;</th><th scope=col>&lt;dbl&gt;</th><th scope=col>&lt;dbl&gt;</th><th scope=col>&lt;dbl&gt;</th><th scope=col>&lt;dbl&gt;</th><th scope=col>&lt;dbl&gt;</th><th scope=col>&lt;dbl&gt;</th><th scope=col>&lt;dbl&gt;</th><th scope=col>&lt;dbl&gt;</th><th scope=col>&lt;int&gt;</th><th scope=col>&lt;int&gt;</th></tr>\n",
       "</thead>\n",
       "<tbody>\n",
       "\t<tr><td>Sweden     </td><td>Europe</td><td>1952.000, 1957.000, 1962.000, 1967.000, 1972.000, 1977.000, 1982.000, 1987.000, 1992.000, 1997.000, 2002.000, 2007.000, 71.860, 72.490, 73.370, 74.160, 74.720, 75.440, 76.420, 77.190, 78.160, 79.390, 80.040, 80.884, 7124673.000, 7363802.000, 7561588.000, 7867931.000, 8122293.000, 8251648.000, 8325260.000, 8421403.000, 8718867.000, 8897619.000, 8954175.000, 9031088.000, 8527.845, 9911.878, 12329.442, 15258.297, 17832.025, 18855.725, 20667.381, 23586.929, 23880.017, 25266.595, 29341.631, 33859.748</td><td>-252.9239, 0.1662545, 0.255, 0.05372727, 0.1024545, 0.06118182, -0.2100909, -0.3213636, -0.1726364, -0.2339091, -0.09518182, 0.3035455, 0.1222727, 0.135, -263.8849, 9.940576, 0.04583789, 0.004342185, -0.2671535, -0.3786492, -0.2301449, -0.2916406, -0.1531363, 0.245368, 0.06387226, 0.07637656, 2, 71.605, 72.43627, 73.26755, 74.09882, 74.93009, 75.76136, 76.59264, 77.42391, 78.25518, 79.08645, 79.91773, 80.749, 0, 1, -3.464102, 0.2886751, 0.2886751, 0.2886751, 0.2886751, 0.2886751, 0.2886751, 0.2886751, 0.2886751, 0.2886751, 0.2886751, 0.2886751, -6857.189, 59.7913, 0.1896554, 0.1060312, 0.02240704, -0.06121716, -0.1448414, -0.2284656, -0.3120898, -0.395714, -0.4793382, -0.5629624, 1.288675, 1.27328, 1, 2, 1e-07, 2, 10, lm(formula = lifeExp ~ year, data = df), lifeExp ~ year, 71.86, 72.49, 73.37, 74.16, 74.72, 75.44, 76.42, 77.19, 78.16, 79.39, 80.04, 80.884, 1952, 1957, 1962, 1967, 1972, 1977, 1982, 1987, 1992, 1997, 2002, 2007</td><td>0.9954822</td><td>0.9950304</td><td>0.2117679</td><td>2203.449</td><td>4.640583e-13</td><td>1</td><td>2.693841</td><td>0.6123182</td><td>2.067038</td><td>0.4484564</td><td>10</td><td>12</td></tr>\n",
       "\t<tr><td>Switzerland</td><td>Europe</td><td>1952.000, 1957.000, 1962.000, 1967.000, 1972.000, 1977.000, 1982.000, 1987.000, 1992.000, 1997.000, 2002.000, 2007.000, 69.620, 70.560, 71.320, 72.770, 73.780, 75.390, 76.210, 77.410, 78.030, 79.370, 80.620, 81.701, 4815000.000, 5126000.000, 5666000.000, 6063000.000, 6401400.000, 6316424.000, 6468126.000, 6649942.000, 6995447.000, 7193761.000, 7361757.000, 7554661.000, 14734.233, 17909.490, 20431.093, 22966.144, 27195.113, 26982.291, 28397.715, 30281.705, 31871.530, 32135.323, 34480.958, 37506.419</td><td>-364.3421, 0.2222315, 0.1662821, -0.004875291, -0.3560326, -0.01718998, -0.1183473, 0.3804953, 0.089338, 0.1781807, -0.3129767, -0.08413403, 0.05470862, 0.02455128, -261.7651, 13.28751, -0.387007, -0.05093085, -0.1548547, 0.3412214, 0.04729748, 0.1333736, -0.3605503, -0.1344742, 0.001601928, -0.03132196, 2, 69.45372, 70.56488, 71.67603, 72.78719, 73.89835, 75.0095, 76.12066, 77.23182, 78.34298, 79.45413, 80.56529, 81.67645, 0, 1, -3.464102, 0.2886751, 0.2886751, 0.2886751, 0.2886751, 0.2886751, 0.2886751, 0.2886751, 0.2886751, 0.2886751, 0.2886751, 0.2886751, -6857.189, 59.7913, 0.1896554, 0.1060312, 0.02240704, -0.06121716, -0.1448414, -0.2284656, -0.3120898, -0.395714, -0.4793382, -0.5629624, 1.288675, 1.27328, 1, 2, 1e-07, 2, 10, lm(formula = lifeExp ~ year, data = df), lifeExp ~ year, 69.62, 70.56, 71.32, 72.77, 73.78, 75.39, 76.21, 77.41, 78.03, 79.37, 80.62, 81.701, 1952, 1957, 1962, 1967, 1972, 1977, 1982, 1987, 1992, 1997, 2002, 2007</td><td>0.9973909</td><td>0.9971299</td><td>0.2149115</td><td>3822.680</td><td>2.978930e-14</td><td>1</td><td>2.517016</td><td>0.9659670</td><td>2.420687</td><td>0.4618694</td><td>10</td><td>12</td></tr>\n",
       "</tbody>\n",
       "</table>\n"
      ],
      "text/latex": [
       "A grouped\\_df: 2 × 16\n",
       "\\begin{tabular}{llllllllllllllll}\n",
       " country & continent & data & models & r.squared & adj.r.squared & sigma & statistic & p.value & df & logLik & AIC & BIC & deviance & df.residual & nobs\\\\\n",
       " <fct> & <fct> & <list> & <list> & <dbl> & <dbl> & <dbl> & <dbl> & <dbl> & <dbl> & <dbl> & <dbl> & <dbl> & <dbl> & <int> & <int>\\\\\n",
       "\\hline\n",
       "\t Sweden      & Europe & 1952.000, 1957.000, 1962.000, 1967.000, 1972.000, 1977.000, 1982.000, 1987.000, 1992.000, 1997.000, 2002.000, 2007.000, 71.860, 72.490, 73.370, 74.160, 74.720, 75.440, 76.420, 77.190, 78.160, 79.390, 80.040, 80.884, 7124673.000, 7363802.000, 7561588.000, 7867931.000, 8122293.000, 8251648.000, 8325260.000, 8421403.000, 8718867.000, 8897619.000, 8954175.000, 9031088.000, 8527.845, 9911.878, 12329.442, 15258.297, 17832.025, 18855.725, 20667.381, 23586.929, 23880.017, 25266.595, 29341.631, 33859.748 & -252.9239, 0.1662545, 0.255, 0.05372727, 0.1024545, 0.06118182, -0.2100909, -0.3213636, -0.1726364, -0.2339091, -0.09518182, 0.3035455, 0.1222727, 0.135, -263.8849, 9.940576, 0.04583789, 0.004342185, -0.2671535, -0.3786492, -0.2301449, -0.2916406, -0.1531363, 0.245368, 0.06387226, 0.07637656, 2, 71.605, 72.43627, 73.26755, 74.09882, 74.93009, 75.76136, 76.59264, 77.42391, 78.25518, 79.08645, 79.91773, 80.749, 0, 1, -3.464102, 0.2886751, 0.2886751, 0.2886751, 0.2886751, 0.2886751, 0.2886751, 0.2886751, 0.2886751, 0.2886751, 0.2886751, 0.2886751, -6857.189, 59.7913, 0.1896554, 0.1060312, 0.02240704, -0.06121716, -0.1448414, -0.2284656, -0.3120898, -0.395714, -0.4793382, -0.5629624, 1.288675, 1.27328, 1, 2, 1e-07, 2, 10, lm(formula = lifeExp \\textasciitilde{} year, data = df), lifeExp \\textasciitilde{} year, 71.86, 72.49, 73.37, 74.16, 74.72, 75.44, 76.42, 77.19, 78.16, 79.39, 80.04, 80.884, 1952, 1957, 1962, 1967, 1972, 1977, 1982, 1987, 1992, 1997, 2002, 2007 & 0.9954822 & 0.9950304 & 0.2117679 & 2203.449 & 4.640583e-13 & 1 & 2.693841 & 0.6123182 & 2.067038 & 0.4484564 & 10 & 12\\\\\n",
       "\t Switzerland & Europe & 1952.000, 1957.000, 1962.000, 1967.000, 1972.000, 1977.000, 1982.000, 1987.000, 1992.000, 1997.000, 2002.000, 2007.000, 69.620, 70.560, 71.320, 72.770, 73.780, 75.390, 76.210, 77.410, 78.030, 79.370, 80.620, 81.701, 4815000.000, 5126000.000, 5666000.000, 6063000.000, 6401400.000, 6316424.000, 6468126.000, 6649942.000, 6995447.000, 7193761.000, 7361757.000, 7554661.000, 14734.233, 17909.490, 20431.093, 22966.144, 27195.113, 26982.291, 28397.715, 30281.705, 31871.530, 32135.323, 34480.958, 37506.419 & -364.3421, 0.2222315, 0.1662821, -0.004875291, -0.3560326, -0.01718998, -0.1183473, 0.3804953, 0.089338, 0.1781807, -0.3129767, -0.08413403, 0.05470862, 0.02455128, -261.7651, 13.28751, -0.387007, -0.05093085, -0.1548547, 0.3412214, 0.04729748, 0.1333736, -0.3605503, -0.1344742, 0.001601928, -0.03132196, 2, 69.45372, 70.56488, 71.67603, 72.78719, 73.89835, 75.0095, 76.12066, 77.23182, 78.34298, 79.45413, 80.56529, 81.67645, 0, 1, -3.464102, 0.2886751, 0.2886751, 0.2886751, 0.2886751, 0.2886751, 0.2886751, 0.2886751, 0.2886751, 0.2886751, 0.2886751, 0.2886751, -6857.189, 59.7913, 0.1896554, 0.1060312, 0.02240704, -0.06121716, -0.1448414, -0.2284656, -0.3120898, -0.395714, -0.4793382, -0.5629624, 1.288675, 1.27328, 1, 2, 1e-07, 2, 10, lm(formula = lifeExp \\textasciitilde{} year, data = df), lifeExp \\textasciitilde{} year, 69.62, 70.56, 71.32, 72.77, 73.78, 75.39, 76.21, 77.41, 78.03, 79.37, 80.62, 81.701, 1952, 1957, 1962, 1967, 1972, 1977, 1982, 1987, 1992, 1997, 2002, 2007 & 0.9973909 & 0.9971299 & 0.2149115 & 3822.680 & 2.978930e-14 & 1 & 2.517016 & 0.9659670 & 2.420687 & 0.4618694 & 10 & 12\\\\\n",
       "\\end{tabular}\n"
      ],
      "text/markdown": [
       "\n",
       "A grouped_df: 2 × 16\n",
       "\n",
       "| country &lt;fct&gt; | continent &lt;fct&gt; | data &lt;list&gt; | models &lt;list&gt; | r.squared &lt;dbl&gt; | adj.r.squared &lt;dbl&gt; | sigma &lt;dbl&gt; | statistic &lt;dbl&gt; | p.value &lt;dbl&gt; | df &lt;dbl&gt; | logLik &lt;dbl&gt; | AIC &lt;dbl&gt; | BIC &lt;dbl&gt; | deviance &lt;dbl&gt; | df.residual &lt;int&gt; | nobs &lt;int&gt; |\n",
       "|---|---|---|---|---|---|---|---|---|---|---|---|---|---|---|---|\n",
       "| Sweden      | Europe | 1952.000, 1957.000, 1962.000, 1967.000, 1972.000, 1977.000, 1982.000, 1987.000, 1992.000, 1997.000, 2002.000, 2007.000, 71.860, 72.490, 73.370, 74.160, 74.720, 75.440, 76.420, 77.190, 78.160, 79.390, 80.040, 80.884, 7124673.000, 7363802.000, 7561588.000, 7867931.000, 8122293.000, 8251648.000, 8325260.000, 8421403.000, 8718867.000, 8897619.000, 8954175.000, 9031088.000, 8527.845, 9911.878, 12329.442, 15258.297, 17832.025, 18855.725, 20667.381, 23586.929, 23880.017, 25266.595, 29341.631, 33859.748 | -252.9239, 0.1662545, 0.255, 0.05372727, 0.1024545, 0.06118182, -0.2100909, -0.3213636, -0.1726364, -0.2339091, -0.09518182, 0.3035455, 0.1222727, 0.135, -263.8849, 9.940576, 0.04583789, 0.004342185, -0.2671535, -0.3786492, -0.2301449, -0.2916406, -0.1531363, 0.245368, 0.06387226, 0.07637656, 2, 71.605, 72.43627, 73.26755, 74.09882, 74.93009, 75.76136, 76.59264, 77.42391, 78.25518, 79.08645, 79.91773, 80.749, 0, 1, -3.464102, 0.2886751, 0.2886751, 0.2886751, 0.2886751, 0.2886751, 0.2886751, 0.2886751, 0.2886751, 0.2886751, 0.2886751, 0.2886751, -6857.189, 59.7913, 0.1896554, 0.1060312, 0.02240704, -0.06121716, -0.1448414, -0.2284656, -0.3120898, -0.395714, -0.4793382, -0.5629624, 1.288675, 1.27328, 1, 2, 1e-07, 2, 10, lm(formula = lifeExp ~ year, data = df), lifeExp ~ year, 71.86, 72.49, 73.37, 74.16, 74.72, 75.44, 76.42, 77.19, 78.16, 79.39, 80.04, 80.884, 1952, 1957, 1962, 1967, 1972, 1977, 1982, 1987, 1992, 1997, 2002, 2007 | 0.9954822 | 0.9950304 | 0.2117679 | 2203.449 | 4.640583e-13 | 1 | 2.693841 | 0.6123182 | 2.067038 | 0.4484564 | 10 | 12 |\n",
       "| Switzerland | Europe | 1952.000, 1957.000, 1962.000, 1967.000, 1972.000, 1977.000, 1982.000, 1987.000, 1992.000, 1997.000, 2002.000, 2007.000, 69.620, 70.560, 71.320, 72.770, 73.780, 75.390, 76.210, 77.410, 78.030, 79.370, 80.620, 81.701, 4815000.000, 5126000.000, 5666000.000, 6063000.000, 6401400.000, 6316424.000, 6468126.000, 6649942.000, 6995447.000, 7193761.000, 7361757.000, 7554661.000, 14734.233, 17909.490, 20431.093, 22966.144, 27195.113, 26982.291, 28397.715, 30281.705, 31871.530, 32135.323, 34480.958, 37506.419 | -364.3421, 0.2222315, 0.1662821, -0.004875291, -0.3560326, -0.01718998, -0.1183473, 0.3804953, 0.089338, 0.1781807, -0.3129767, -0.08413403, 0.05470862, 0.02455128, -261.7651, 13.28751, -0.387007, -0.05093085, -0.1548547, 0.3412214, 0.04729748, 0.1333736, -0.3605503, -0.1344742, 0.001601928, -0.03132196, 2, 69.45372, 70.56488, 71.67603, 72.78719, 73.89835, 75.0095, 76.12066, 77.23182, 78.34298, 79.45413, 80.56529, 81.67645, 0, 1, -3.464102, 0.2886751, 0.2886751, 0.2886751, 0.2886751, 0.2886751, 0.2886751, 0.2886751, 0.2886751, 0.2886751, 0.2886751, 0.2886751, -6857.189, 59.7913, 0.1896554, 0.1060312, 0.02240704, -0.06121716, -0.1448414, -0.2284656, -0.3120898, -0.395714, -0.4793382, -0.5629624, 1.288675, 1.27328, 1, 2, 1e-07, 2, 10, lm(formula = lifeExp ~ year, data = df), lifeExp ~ year, 69.62, 70.56, 71.32, 72.77, 73.78, 75.39, 76.21, 77.41, 78.03, 79.37, 80.62, 81.701, 1952, 1957, 1962, 1967, 1972, 1977, 1982, 1987, 1992, 1997, 2002, 2007 | 0.9973909 | 0.9971299 | 0.2149115 | 3822.680 | 2.978930e-14 | 1 | 2.517016 | 0.9659670 | 2.420687 | 0.4618694 | 10 | 12 |\n",
       "\n"
      ],
      "text/plain": [
       "  country     continent\n",
       "1 Sweden      Europe   \n",
       "2 Switzerland Europe   \n",
       "  data                                                                                                                                                                                                                                                                                                                                                                                                                                                                                                                  \n",
       "1 1952.000, 1957.000, 1962.000, 1967.000, 1972.000, 1977.000, 1982.000, 1987.000, 1992.000, 1997.000, 2002.000, 2007.000, 71.860, 72.490, 73.370, 74.160, 74.720, 75.440, 76.420, 77.190, 78.160, 79.390, 80.040, 80.884, 7124673.000, 7363802.000, 7561588.000, 7867931.000, 8122293.000, 8251648.000, 8325260.000, 8421403.000, 8718867.000, 8897619.000, 8954175.000, 9031088.000, 8527.845, 9911.878, 12329.442, 15258.297, 17832.025, 18855.725, 20667.381, 23586.929, 23880.017, 25266.595, 29341.631, 33859.748  \n",
       "2 1952.000, 1957.000, 1962.000, 1967.000, 1972.000, 1977.000, 1982.000, 1987.000, 1992.000, 1997.000, 2002.000, 2007.000, 69.620, 70.560, 71.320, 72.770, 73.780, 75.390, 76.210, 77.410, 78.030, 79.370, 80.620, 81.701, 4815000.000, 5126000.000, 5666000.000, 6063000.000, 6401400.000, 6316424.000, 6468126.000, 6649942.000, 6995447.000, 7193761.000, 7361757.000, 7554661.000, 14734.233, 17909.490, 20431.093, 22966.144, 27195.113, 26982.291, 28397.715, 30281.705, 31871.530, 32135.323, 34480.958, 37506.419\n",
       "  models                                                                                                                                                                                                                                                                                                                                                                                                                                                                                                                                                                                                                                                                                                                                                                                                                                                                                                                                                                                     \n",
       "1 -252.9239, 0.1662545, 0.255, 0.05372727, 0.1024545, 0.06118182, -0.2100909, -0.3213636, -0.1726364, -0.2339091, -0.09518182, 0.3035455, 0.1222727, 0.135, -263.8849, 9.940576, 0.04583789, 0.004342185, -0.2671535, -0.3786492, -0.2301449, -0.2916406, -0.1531363, 0.245368, 0.06387226, 0.07637656, 2, 71.605, 72.43627, 73.26755, 74.09882, 74.93009, 75.76136, 76.59264, 77.42391, 78.25518, 79.08645, 79.91773, 80.749, 0, 1, -3.464102, 0.2886751, 0.2886751, 0.2886751, 0.2886751, 0.2886751, 0.2886751, 0.2886751, 0.2886751, 0.2886751, 0.2886751, 0.2886751, -6857.189, 59.7913, 0.1896554, 0.1060312, 0.02240704, -0.06121716, -0.1448414, -0.2284656, -0.3120898, -0.395714, -0.4793382, -0.5629624, 1.288675, 1.27328, 1, 2, 1e-07, 2, 10, lm(formula = lifeExp ~ year, data = df), lifeExp ~ year, 71.86, 72.49, 73.37, 74.16, 74.72, 75.44, 76.42, 77.19, 78.16, 79.39, 80.04, 80.884, 1952, 1957, 1962, 1967, 1972, 1977, 1982, 1987, 1992, 1997, 2002, 2007               \n",
       "2 -364.3421, 0.2222315, 0.1662821, -0.004875291, -0.3560326, -0.01718998, -0.1183473, 0.3804953, 0.089338, 0.1781807, -0.3129767, -0.08413403, 0.05470862, 0.02455128, -261.7651, 13.28751, -0.387007, -0.05093085, -0.1548547, 0.3412214, 0.04729748, 0.1333736, -0.3605503, -0.1344742, 0.001601928, -0.03132196, 2, 69.45372, 70.56488, 71.67603, 72.78719, 73.89835, 75.0095, 76.12066, 77.23182, 78.34298, 79.45413, 80.56529, 81.67645, 0, 1, -3.464102, 0.2886751, 0.2886751, 0.2886751, 0.2886751, 0.2886751, 0.2886751, 0.2886751, 0.2886751, 0.2886751, 0.2886751, 0.2886751, -6857.189, 59.7913, 0.1896554, 0.1060312, 0.02240704, -0.06121716, -0.1448414, -0.2284656, -0.3120898, -0.395714, -0.4793382, -0.5629624, 1.288675, 1.27328, 1, 2, 1e-07, 2, 10, lm(formula = lifeExp ~ year, data = df), lifeExp ~ year, 69.62, 70.56, 71.32, 72.77, 73.78, 75.39, 76.21, 77.41, 78.03, 79.37, 80.62, 81.701, 1952, 1957, 1962, 1967, 1972, 1977, 1982, 1987, 1992, 1997, 2002, 2007\n",
       "  r.squared adj.r.squared sigma     statistic p.value      df logLik  \n",
       "1 0.9954822 0.9950304     0.2117679 2203.449  4.640583e-13 1  2.693841\n",
       "2 0.9973909 0.9971299     0.2149115 3822.680  2.978930e-14 1  2.517016\n",
       "  AIC       BIC      deviance  df.residual nobs\n",
       "1 0.6123182 2.067038 0.4484564 10          12  \n",
       "2 0.9659670 2.420687 0.4618694 10          12  "
      ]
     },
     "metadata": {},
     "output_type": "display_data"
    }
   ],
   "source": [
    "\n",
    "glanced %>% \n",
    "  unnest(glance) %>%\n",
    "  arrange(BIC)   %>%     # Low to High; Lower BIC indicates a better model fit    \n",
    "  head(2)\n",
    "\n"
   ]
  },
  {
   "cell_type": "code",
   "execution_count": null,
   "metadata": {},
   "outputs": [],
   "source": []
  },
  {
   "cell_type": "code",
   "execution_count": null,
   "metadata": {},
   "outputs": [],
   "source": [
    "glanced %>% \n",
    "  unnest(glance) %>%\n",
    "  ggplot(aes(continent, BIC)) +\n",
    "    geom_jitter(width = 0.5)"
   ]
  },
  {
   "cell_type": "code",
   "execution_count": null,
   "metadata": {},
   "outputs": [],
   "source": []
  },
  {
   "cell_type": "code",
   "execution_count": null,
   "metadata": {},
   "outputs": [],
   "source": [
    "# ?broom::glance.lm"
   ]
  },
  {
   "cell_type": "code",
   "execution_count": null,
   "metadata": {},
   "outputs": [],
   "source": []
  },
  {
   "cell_type": "code",
   "execution_count": null,
   "metadata": {},
   "outputs": [],
   "source": []
  },
  {
   "cell_type": "code",
   "execution_count": null,
   "metadata": {},
   "outputs": [],
   "source": []
  },
  {
   "cell_type": "code",
   "execution_count": null,
   "metadata": {},
   "outputs": [],
   "source": []
  }
 ],
 "metadata": {
  "kernelspec": {
   "display_name": "R",
   "language": "R",
   "name": "ir"
  },
  "language_info": {
   "codemirror_mode": "r",
   "file_extension": ".r",
   "mimetype": "text/x-r-source",
   "name": "R",
   "pygments_lexer": "r",
   "version": "4.0.2"
  }
 },
 "nbformat": 4,
 "nbformat_minor": 4
}
